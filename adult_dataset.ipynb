{
 "cells": [
  {
   "cell_type": "markdown",
   "id": "1d410884",
   "metadata": {},
   "source": [
    "# Dataset Context and Exploration\n",
    "\n",
    "**age**  \n",
    "- Demographic: Age  \n",
    "- Description: How old is this sample of people  \n",
    "- Data Type: Integer  \n",
    "- Missing Values: No  \n",
    "\n",
    "**workclass**  \n",
    "- Demographic: Income  \n",
    "- Description: Employment classification  \n",
    "- Possible values: Private, Self-emp-not-inc, Self-emp-inc, Federal-gov, Local-gov, State-gov, Without-pay, Never-worked  \n",
    "- Data Type: Categorical  \n",
    "- Missing Values: Yes  \n",
    "\n",
    "**fnlwgt**  \n",
    "- Demographic:  \n",
    "- Description: Final weight representing the number of people the census believes the entry represents  \n",
    "- Data Type: Integer  \n",
    "- Missing Values: No  \n",
    "\n",
    "**education**  \n",
    "- Demographic: Education Level  \n",
    "- Description: Highest level of education achieved  \n",
    "- Possible values: Bachelors, Some-college, 11th, HS-grad, Prof-school, Assoc-acdm, Assoc-voc, 9th, 7th-8th, 12th, Masters, 1st-4th, 10th, Doctorate, 5th-6th, Preschool  \n",
    "- Data Type: Categorical  \n",
    "- Missing Values: No  \n",
    "\n",
    "**education-num**  \n",
    "- Demographic: Education Level  \n",
    "- Description: Numeric representation of education level  \n",
    "- Data Type: Integer  \n",
    "- Missing Values: No  \n",
    "\n",
    "**marital-status**  \n",
    "- Demographic: Other  \n",
    "- Description: Marital status of the individual  \n",
    "- Possible values: Married-civ-spouse, Divorced, Never-married, Separated, Widowed, Married-spouse-absent, Married-AF-spouse  \n",
    "- Data Type: Categorical  \n",
    "- Missing Values: No  \n",
    "\n",
    "**occupation**  \n",
    "- Demographic: Other  \n",
    "- Description: Type of job  \n",
    "- Possible values: Tech-support, Craft-repair, Other-service, Sales, Exec-managerial, Prof-specialty, Handlers-cleaners, Machine-op-inspct, Adm-clerical, Farming-fishing, Transport-moving, Priv-house-serv, Protective-serv, Armed-Forces  \n",
    "- Data Type: Categorical  \n",
    "- Missing Values: Yes  \n",
    "\n",
    "**relationship**  \n",
    "- Demographic: Other  \n",
    "- Description: Relationship within household  \n",
    "- Possible values: Wife, Own-child, Husband, Not-in-family, Other-relative, Unmarried  \n",
    "- Data Type: Categorical  \n",
    "- Missing Values: No  \n",
    "\n",
    "**race**  \n",
    "- Demographic: Race  \n",
    "- Description: Race of the individual  \n",
    "- Possible values: White, Asian-Pac-Islander, Amer-Indian-Eskimo, Other, Black  \n",
    "- Data Type: Categorical  \n",
    "- Missing Values: No  \n",
    "\n",
    "**sex**  \n",
    "- Demographic: Sex  \n",
    "- Description: Gender of the individual  \n",
    "- Possible values: Female, Male  \n",
    "- Data Type: Binary  \n",
    "- Missing Values: No  \n",
    "\n",
    "**capital-gain**  \n",
    "- Demographic:  \n",
    "- Description: Income from capital gains  \n",
    "- Data Type: Integer  \n",
    "- Missing Values: No  \n",
    "\n",
    "**capital-loss**  \n",
    "- Demographic:  \n",
    "- Description: Capital losses  \n",
    "- Data Type: Integer  \n",
    "- Missing Values: No  \n",
    "\n",
    "**hours-per-week**  \n",
    "- Demographic:  \n",
    "- Description: Number of hours worked per week  \n",
    "- Data Type: Integer  \n",
    "- Missing Values: No  \n",
    "\n",
    "**native-country**  \n",
    "- Demographic: Other  \n",
    "- Description: Country of origin  \n",
    "- Possible values: United-States, Cambodia, England, Puerto-Rico, Canada, Germany, Outlying-US(Guam-USVI-etc), India, Japan, Greece, South, China, Cuba, Iran, Honduras, Philippines, Italy, Poland, Jamaica, Vietnam, Mexico, Portugal, Ireland, France, Dominican-Republic, Laos, Ecuador, Taiwan, Haiti, Columbia, Hungary, Guatemala, Nicaragua, Scotland, Thailand, Yugoslavia, El-Salvador, Trinadad&Tobago, Peru, Hong, Holand-Netherlands  \n",
    "- Data Type: Categorical  \n",
    "- Missing Values: Yes  \n",
    "\n",
    "**income**  \n",
    "- Demographic: Income  \n",
    "- Description: Income class  \n",
    "- Possible values: >50K, <=50K  \n",
    "- Data Type: Binary  \n",
    "- Missing Values: No  \n",
    "\n"
   ]
  },
  {
   "cell_type": "code",
   "execution_count": 61,
   "id": "cfb6049e",
   "metadata": {},
   "outputs": [],
   "source": [
    "import pandas as pd\n",
    "import matplotlib.pyplot as plt\n",
    "import seaborn as sns\n",
    "import numpy as np"
   ]
  },
  {
   "cell_type": "markdown",
   "id": "1fe9ed00",
   "metadata": {},
   "source": [
    "# Missing Values"
   ]
  },
  {
   "cell_type": "code",
   "execution_count": 62,
   "id": "1f607c93",
   "metadata": {},
   "outputs": [
    {
     "name": "stdout",
     "output_type": "stream",
     "text": [
      "age                  0\n",
      "workclass         2799\n",
      "fnlwgt               0\n",
      "education            0\n",
      "education-num        0\n",
      "marital-status       0\n",
      "occupation        2809\n",
      "relationship         0\n",
      "race                 0\n",
      "sex                  0\n",
      "capital-gain         0\n",
      "capital-loss         0\n",
      "hours-per-week       0\n",
      "native-country     857\n",
      "income               0\n",
      "dtype: int64\n"
     ]
    }
   ],
   "source": [
    "df = pd.read_csv('base_data/adultdataset.csv', na_values='NaN', skipinitialspace=True)\n",
    "\n",
    "#Identify and count the number of missing values in each column, the missing values are repesented by \"NaN\"\n",
    "missing_values = df.isna().sum()\n",
    "print(missing_values)"
   ]
  },
  {
   "cell_type": "markdown",
   "id": "fca1cdf5",
   "metadata": {},
   "source": [
    "# Total fnlwgt\n",
    "\n",
    "The fnlwgt represent the wheight a certain row has over the whole dataset, this works like a percentage.\n",
    "From this point forward if we discribe something as wheighted it means that it wheighted to the total fnlwgt"
   ]
  },
  {
   "cell_type": "code",
   "execution_count": 63,
   "id": "3a987500",
   "metadata": {},
   "outputs": [
    {
     "name": "stdout",
     "output_type": "stream",
     "text": [
      "9263575662\n"
     ]
    }
   ],
   "source": [
    "total_fnlwgt = df['fnlwgt'].sum()\n",
    "print(total_fnlwgt)\n"
   ]
  },
  {
   "cell_type": "markdown",
   "id": "57702e4b",
   "metadata": {},
   "source": [
    "# Wheighted Age Distribution"
   ]
  },
  {
   "cell_type": "code",
   "execution_count": 64,
   "id": "376abf4b",
   "metadata": {},
   "outputs": [
    {
     "name": "stdout",
     "output_type": "stream",
     "text": [
      "{'17-26': 0.23254280804728855, '27-36': 0.27141756733459493, '37-46': 0.23722836582580933, '47-56': 0.1511744520795171, '57-66': 0.07870687525021912, '67-76': 0.023731706850714768, '77-86': 0.004034587978086512, '87-99': 0.001163636633769635}\n"
     ]
    }
   ],
   "source": [
    "age_bins = [(17, 26), (27, 36), (37, 46), (47, 56), (57, 66), (67, 76), (77, 86), (87, 99)]\n",
    "\n",
    "age_distribution = (df.groupby('age')['fnlwgt'].sum() / total_fnlwgt).to_dict()\n",
    "\n",
    "# Aggregate into custom age ranges\n",
    "age_ranges = {}\n",
    "for start, end in age_bins:\n",
    "    label = f'{start}-{end}'\n",
    "    age_ranges[label] = sum(age_distribution.get(age, 0) for age in range(start, end + 1))\n",
    "\n",
    "print(age_ranges)"
   ]
  },
  {
   "cell_type": "markdown",
   "id": "d5cf6cee",
   "metadata": {},
   "source": [
    "# Wheighted Education Distribution"
   ]
  },
  {
   "cell_type": "code",
   "execution_count": 65,
   "id": "5bfcbf64",
   "metadata": {},
   "outputs": [
    {
     "name": "stdout",
     "output_type": "stream",
     "text": [
      "{'10th': 0.029468504815025498, '11th': 0.03816294386736559, '12th': 0.01400998833877717, '1st-4th': 0.0062664863027056044, '5th-6th': 0.012629909796056028, '7th-8th': 0.019338862285637366, '9th': 0.016240940376528228, 'Assoc-acdm': 0.03347668679083759, 'Assoc-voc': 0.0399183750953639, 'Bachelors': 0.163176883759985, 'Doctorate': 0.011804269538010278, 'HS-grad': 0.32139634430936437, 'Masters': 0.0520525309657691, 'Preschool': 0.0021408804465594703, 'Prof-school': 0.016798332164364632, 'Some-college': 0.22311806114765018}\n"
     ]
    }
   ],
   "source": [
    "\n",
    "education_distribution = (df.groupby('education')['fnlwgt'].sum() / total_fnlwgt).to_dict()\n",
    "print(education_distribution)"
   ]
  },
  {
   "cell_type": "markdown",
   "id": "8c7d20fb",
   "metadata": {},
   "source": [
    "# Wheighted Race Distribution"
   ]
  },
  {
   "cell_type": "code",
   "execution_count": 66,
   "id": "bed862e2",
   "metadata": {},
   "outputs": [
    {
     "name": "stdout",
     "output_type": "stream",
     "text": [
      "{'Amer-Indian-Eskimo': 0.00609399275827926, 'Asian-Pac-Islander': 0.026202793700461278, 'Black': 0.11656649596219383, 'Other': 0.008577742860778288, 'White': 0.8425589747182873}\n"
     ]
    }
   ],
   "source": [
    "\n",
    "race_distribution = (df.groupby('race')['fnlwgt'].sum() / total_fnlwgt).to_dict()\n",
    "print(race_distribution)"
   ]
  },
  {
   "cell_type": "markdown",
   "id": "10bb02c1",
   "metadata": {},
   "source": [
    "# Wheighted Native Country Distribuition"
   ]
  },
  {
   "cell_type": "code",
   "execution_count": 67,
   "id": "e324f64a",
   "metadata": {},
   "outputs": [
    {
     "name": "stdout",
     "output_type": "stream",
     "text": [
      "{'Cambodia': 0.0006054133095717787, 'Canada': 0.0035612337183499113, 'China': 0.002275493585750992, 'Columbia': 0.001998964619672796, 'Cuba': 0.003584282917470276, 'Dominican-Republic': 0.002264667852399304, 'Ecuador': 0.000867478746135166, 'El-Salvador': 0.004194289701695103, 'England': 0.0025167153430435273, 'France': 0.0007650541495625774, 'Germany': 0.004291807337752816, 'Greece': 0.000795958306925307, 'Guatemala': 0.0024352646130521775, 'Haiti': 0.0017626972128033124, 'Holand-Netherlands': 3.009852892374422e-06, 'Honduras': 0.0005169305217253592, 'Hong': 0.0006895137723332388, 'Hungary': 0.00040688543360871404, 'India': 0.0026994449996861265, 'Iran': 0.0012345983254516651, 'Ireland': 0.000583518308397231, 'Italy': 0.0020298072457196714, 'Jamaica': 0.002418630971181892, 'Japan': 0.0019346626674100781, 'Laos': 0.0005085181113512882, 'Mexico': 0.02920982867446892, 'Nicaragua': 0.0015055085108452585, 'Outlying-US(Guam-USVI-etc)': 0.00046019119997985937, 'Peru': 0.0013488914492551592, 'Philippines': 0.005207780964956726, 'Poland': 0.0017265999203321452, 'Portugal': 0.0010919792064197425, 'Puerto-Rico': 0.004064267230465031, 'Scotland': 0.0003546663966352996, 'South': 0.0020754486929779234, 'Taiwan': 0.0012956487254953454, 'Thailand': 0.0005933743298009886, 'Trinadad&Tobago': 0.0006071571286530288, 'United-States': 0.8854902228141374, 'Vietnam': 0.0015862030533496602, 'Yugoslavia': 0.0005276729179264515}\n"
     ]
    }
   ],
   "source": [
    "ncountry_distribution = (df.groupby('native-country')['fnlwgt'].sum() / total_fnlwgt).to_dict()\n",
    "print(ncountry_distribution)"
   ]
  },
  {
   "cell_type": "markdown",
   "id": "2e6b6cb8",
   "metadata": {},
   "source": [
    "# Wheighted Workclass Distribution"
   ]
  },
  {
   "cell_type": "code",
   "execution_count": 68,
   "id": "5416f357",
   "metadata": {},
   "outputs": [
    {
     "name": "stdout",
     "output_type": "stream",
     "text": [
      "{'Federal-gov': 0.028380069488549937, 'Local-gov': 0.06437528452930555, 'Never-worked': 0.00023212775265828018, 'Private': 0.7051966278850047, 'Self-emp-inc': 0.03275067868712141, 'Self-emp-not-inc': 0.07319917748192728, 'State-gov': 0.03890616400732109, 'Without-pay': 0.00038062581109622506}\n"
     ]
    }
   ],
   "source": [
    "workclass_distribution = (df.groupby('workclass')['fnlwgt'].sum() / total_fnlwgt).to_dict()\n",
    "print(workclass_distribution)"
   ]
  },
  {
   "cell_type": "markdown",
   "id": "a05717e4",
   "metadata": {},
   "source": [
    "# Wheighted Income Distribution"
   ]
  },
  {
   "cell_type": "code",
   "execution_count": 69,
   "id": "dc469a02",
   "metadata": {},
   "outputs": [
    {
     "name": "stdout",
     "output_type": "stream",
     "text": [
      "{'<=50K': 0.7622240390354357, '>50K': 0.2377759609645643}\n"
     ]
    }
   ],
   "source": [
    "income_distribution = (df.groupby('income')['fnlwgt'].sum() / total_fnlwgt).to_dict()\n",
    "print(income_distribution)"
   ]
  },
  {
   "cell_type": "markdown",
   "id": "163346c7",
   "metadata": {},
   "source": [
    "# Wheighted Sex Distribution"
   ]
  },
  {
   "cell_type": "code",
   "execution_count": 70,
   "id": "91d60d53",
   "metadata": {},
   "outputs": [
    {
     "name": "stdout",
     "output_type": "stream",
     "text": [
      "{'Female': 0.32424719304894256, 'Male': 0.6757528069510574}\n"
     ]
    }
   ],
   "source": [
    "sex_distribution = (df.groupby('sex')['fnlwgt'].sum() / total_fnlwgt).to_dict()\n",
    "print(sex_distribution)"
   ]
  },
  {
   "cell_type": "markdown",
   "id": "be109aee",
   "metadata": {},
   "source": [
    "# Wheighted Relationship Distribution"
   ]
  },
  {
   "cell_type": "code",
   "execution_count": 71,
   "id": "6b0598e2",
   "metadata": {},
   "outputs": [
    {
     "name": "stdout",
     "output_type": "stream",
     "text": [
      "{'Husband': 0.39841025891757864, 'Not-in-family': 0.25856131437726904, 'Other-relative': 0.03308744508422627, 'Own-child': 0.15858494253209673, 'Unmarried': 0.10587409719372355, 'Wife': 0.04548194189510577}\n"
     ]
    }
   ],
   "source": [
    "relationship_distribution = (df.groupby('relationship')['fnlwgt'].sum() / total_fnlwgt).to_dict()\n",
    "print(relationship_distribution)"
   ]
  },
  {
   "cell_type": "markdown",
   "id": "81e18149",
   "metadata": {},
   "source": [
    "# Wheighted Average Hours per Week Distribution"
   ]
  },
  {
   "cell_type": "code",
   "execution_count": 72,
   "id": "3600a96b",
   "metadata": {},
   "outputs": [
    {
     "name": "stdout",
     "output_type": "stream",
     "text": [
      "{1: 0.0005355909187801483, 2: 0.001110879143807656, 3: 0.0011775734768106653, 4: 0.001502640719727734, 5: 0.001782997041601753, 6: 0.0017477536310751623, 7: 0.0008876964252294569, 8: 0.004306831773788993, 9: 0.0005425860578457053, 10: 0.00822093884464027, 11: 0.00029105478255659766, 12: 0.00464480234954009, 13: 0.0005934932903449739, 14: 0.001068289757765461, 15: 0.012683411491090814, 16: 0.005952873923857416, 17: 0.0009196336610004795, 18: 0.002499484415610746, 19: 0.00037384246929681955, 20: 0.03775265175785208, 21: 0.0009668757860683624, 22: 0.0012101099412383685, 23: 0.000869856013920686, 24: 0.007465276748769972, 25: 0.020016737139702544, 26: 0.0008324194977574308, 27: 0.0008371259957222337, 28: 0.0029465861775135357, 29: 0.0003484678182358651, 30: 0.035563565627408374, 31: 0.00024778768844258833, 32: 0.008798474473991942, 33: 0.0013127072572940571, 34: 0.0009296414596500113, 35: 0.039750254268501276, 36: 0.007376472162936601, 37: 0.004874414119077986, 38: 0.014070435839875153, 39: 0.0011599365506429218, 40: 0.4750028149551481, 41: 0.0010720054935953304, 42: 0.006574459498380249, 43: 0.004373176349838724, 44: 0.006600522652480711, 45: 0.05462403066190879, 46: 0.002475315778340539, 47: 0.0016496344994175534, 48: 0.0162560565697898, 49: 0.0007953133076056048, 50: 0.08643813266238533, 51: 0.0003386656637208994, 52: 0.0043745867123679135, 53: 0.0007236105413913981, 54: 0.0012943107971993806, 55: 0.020353896257732103, 56: 0.002779384110351319, 57: 0.00026824048193324943, 58: 0.0007148367154989401, 59: 0.00014840543761513242, 60: 0.043008709545530134, 61: 7.752902617788323e-05, 62: 0.0003895966451490943, 63: 0.0003774625617129223, 64: 0.00042595603943586594, 65: 0.007006211463920572, 66: 0.0004102484978440283, 67: 9.925357481254628e-05, 68: 0.00022206727456640274, 69: 2.1828180324523158e-05, 70: 0.008170033015486801, 72: 0.002030608340272225, 73: 6.930606748683779e-05, 74: 5.515926232416409e-05, 75: 0.002009212606353514, 76: 8.792296082182094e-05, 77: 0.00022777176729449377, 78: 0.00029280540246749486, 79: 4.941504411496002e-06, 80: 0.004183963127649575, 81: 6.459751847817315e-05, 82: 3.0540043102419042e-06, 84: 0.0011761069804494678, 85: 0.0002735752470178291, 86: 5.313391048546066e-05, 87: 9.336783457687702e-06, 88: 0.00012357172238531235, 89: 3.8341350355346186e-05, 90: 0.000844305944634708, 91: 4.110939597138037e-05, 92: 7.604730891223761e-05, 94: 3.0337097709776337e-05, 95: 3.228450988173081e-05, 96: 0.0002801515413368683, 97: 3.592813532740593e-05, 98: 0.0002679081048779585, 99: 0.0024500539346919837}\n",
      "{40: 0.4750028149551481, 50: 0.08643813266238533, 45: 0.05462403066190879, 60: 0.043008709545530134, 35: 0.039750254268501276, 20: 0.03775265175785208, 30: 0.035563565627408374, 55: 0.020353896257732103, 25: 0.020016737139702544, 48: 0.0162560565697898, 38: 0.014070435839875153, 15: 0.012683411491090814, 32: 0.008798474473991942, 10: 0.00822093884464027, 70: 0.008170033015486801, 24: 0.007465276748769972, 36: 0.007376472162936601, 65: 0.007006211463920572, 44: 0.006600522652480711, 42: 0.006574459498380249, 16: 0.005952873923857416, 37: 0.004874414119077986, 12: 0.00464480234954009, 52: 0.0043745867123679135, 43: 0.004373176349838724, 8: 0.004306831773788993, 80: 0.004183963127649575, 28: 0.0029465861775135357, 56: 0.002779384110351319, 18: 0.002499484415610746, 46: 0.002475315778340539, 99: 0.0024500539346919837, 72: 0.002030608340272225, 75: 0.002009212606353514, 5: 0.001782997041601753, 6: 0.0017477536310751623, 47: 0.0016496344994175534, 4: 0.001502640719727734, 33: 0.0013127072572940571, 54: 0.0012943107971993806, 22: 0.0012101099412383685, 3: 0.0011775734768106653, 84: 0.0011761069804494678, 39: 0.0011599365506429218, 2: 0.001110879143807656, 41: 0.0010720054935953304, 14: 0.001068289757765461, 21: 0.0009668757860683624, 34: 0.0009296414596500113, 17: 0.0009196336610004795, 7: 0.0008876964252294569, 23: 0.000869856013920686, 90: 0.000844305944634708, 27: 0.0008371259957222337, 26: 0.0008324194977574308, 49: 0.0007953133076056048, 53: 0.0007236105413913981, 58: 0.0007148367154989401, 13: 0.0005934932903449739, 9: 0.0005425860578457053, 1: 0.0005355909187801483, 64: 0.00042595603943586594, 66: 0.0004102484978440283, 62: 0.0003895966451490943, 63: 0.0003774625617129223, 19: 0.00037384246929681955, 29: 0.0003484678182358651, 51: 0.0003386656637208994, 78: 0.00029280540246749486, 11: 0.00029105478255659766, 96: 0.0002801515413368683, 85: 0.0002735752470178291, 57: 0.00026824048193324943, 98: 0.0002679081048779585, 31: 0.00024778768844258833, 77: 0.00022777176729449377, 68: 0.00022206727456640274, 59: 0.00014840543761513242, 88: 0.00012357172238531235, 67: 9.925357481254628e-05, 76: 8.792296082182094e-05, 61: 7.752902617788323e-05, 92: 7.604730891223761e-05, 73: 6.930606748683779e-05, 81: 6.459751847817315e-05, 74: 5.515926232416409e-05, 86: 5.313391048546066e-05, 91: 4.110939597138037e-05, 89: 3.8341350355346186e-05, 97: 3.592813532740593e-05, 95: 3.228450988173081e-05, 94: 3.0337097709776337e-05, 69: 2.1828180324523158e-05, 87: 9.336783457687702e-06, 79: 4.941504411496002e-06, 82: 3.0540043102419042e-06}\n",
      "{'<40': 0.2381721704989729, '40': 0.4750028149551481, '>40': 0.28682501454587894}\n",
      "Average Hours: 40.32911200806684\n"
     ]
    }
   ],
   "source": [
    "hours_per_week_distribution = (df.groupby('hours-per-week')['fnlwgt'].sum() / total_fnlwgt).to_dict()\n",
    "print(hours_per_week_distribution)\n",
    "sorted_hours_per_week = dict(sorted(hours_per_week_distribution.items(), key=lambda item: item[1], reverse=True))\n",
    "print(sorted_hours_per_week)\n",
    "\n",
    "hours_per_week_distribution_grouped = {\"<40\":0, \"40\":0, \">40\":0}\n",
    "for key, value in hours_per_week_distribution.items():\n",
    "    if key < 40:\n",
    "        hours_per_week_distribution_grouped[\"<40\"] += value\n",
    "    elif key == 40:\n",
    "        hours_per_week_distribution_grouped[\"40\"] += value\n",
    "    else:\n",
    "        hours_per_week_distribution_grouped[\">40\"] += value\n",
    "print(hours_per_week_distribution_grouped)\n",
    "\n",
    "\n",
    "average_hours_per_week = 0\n",
    "for key, value in hours_per_week_distribution.items():\n",
    "    average_hours_per_week += key * value\n",
    "print(\"Average Hours:\" , average_hours_per_week)"
   ]
  },
  {
   "cell_type": "markdown",
   "id": "3cd6877f",
   "metadata": {},
   "source": [
    "# Class Balance of the Dataset\n",
    "\n",
    "Check the distribution of the target variable (the class you’re trying to predict)."
   ]
  },
  {
   "cell_type": "code",
   "execution_count": null,
   "id": "7d395c8a",
   "metadata": {},
   "outputs": [],
   "source": [
    "df['income'].value_counts(normalize=True)\n"
   ]
  },
  {
   "cell_type": "markdown",
   "id": "eca8522a",
   "metadata": {},
   "source": [
    "## **Preprocessing the Dataset**\n",
    "\n",
    "In this section, we handle the preprocessing of the Adult Income dataset to prepare it for machine learning.\n",
    "\n",
    "### **Handling Missing Values**\n",
    "\n",
    "The dataset contains some missing values, represented as `\"NaN\"`, particularly in categorical features like `workclass`, `occupation`, and `native-country`. We will address them using two strategies:\n",
    "\n",
    "- **Removing rows with missing values** to eliminate uncertainty.\n",
    "- **Replacing missing values** with the most frequent value (mode) in the respective column."
   ]
  },
  {
   "cell_type": "code",
   "execution_count": null,
   "id": "85fced8c",
   "metadata": {},
   "outputs": [],
   "source": [
    "columns = ['workclass', 'occupation', 'native-country']\n",
    "\n",
    "for col in columns:\n",
    "    mode_value = df[col].mode()[0]\n",
    "    mode_count = df[col].value_counts().loc[mode_value]\n",
    "    total_non_missing = df[col].notna().sum()\n",
    "    print(f\"Column: {col}\")\n",
    "    print(f\"  Most common value: {mode_value}\")\n",
    "    print(f\"  Frequency: {mode_count} ({mode_count / total_non_missing:.2%} of non-missing values)\")\n",
    "    print()"
   ]
  },
  {
   "cell_type": "markdown",
   "id": "718ddad8",
   "metadata": {},
   "source": [
    "### **Missing Values Chosen Strategy** \n",
    "\n",
    "Missing values in the workclass, occupation, and native-country columns were imputed using the most frequent value (mode) in each column. This strategy retains more data while introducing minimal bias, as the mode values were dominant — especially in native-country (>91%) and workclass (>73%)."
   ]
  },
  {
   "cell_type": "code",
   "execution_count": 75,
   "id": "b7874876",
   "metadata": {},
   "outputs": [
    {
     "name": "stdout",
     "output_type": "stream",
     "text": [
      "Original number of rows: 48842\n",
      "Remaining rows after dropping: 45222\n",
      "Rows dropped: 3620\n",
      "Percentage of data lost: 7.41%\n"
     ]
    }
   ],
   "source": [
    "original_rows = df.shape[0]\n",
    "\n",
    "# Drop rows with missing values in the selected columns\n",
    "df_dropped = df.dropna(subset=['workclass', 'occupation', 'native-country'])\n",
    "\n",
    "# Number of rows after dropping\n",
    "remaining_rows = df_dropped.shape[0]\n",
    "\n",
    "# Number of rows removed\n",
    "rows_dropped = original_rows - remaining_rows\n",
    "\n",
    "# Percentage of data lost\n",
    "percent_lost = (rows_dropped / original_rows) * 100\n",
    "\n",
    "print(f\"Original number of rows: {original_rows}\")\n",
    "print(f\"Remaining rows after dropping: {remaining_rows}\")\n",
    "print(f\"Rows dropped: {rows_dropped}\")\n",
    "print(f\"Percentage of data lost: {percent_lost:.2f}%\")"
   ]
  },
  {
   "cell_type": "markdown",
   "id": "53a569cd",
   "metadata": {},
   "source": [
    "### **Dropping Rows with missing Values**\n",
    "\n",
    "The dataset contains missing values in the workclass, occupation, and native-country columns. Dropping rows with missing values would result in a loss of 7.41% of the data (3,620 rows). To preserve the dataset size and avoid potential bias introduced by data loss, we chose to impute missing values using the most frequent (mode) value for each column. The dominant presence of these mode values (e.g., native-country = \"United-States\" at 91%) supports this choice."
   ]
  },
  {
   "cell_type": "markdown",
   "id": "90ed2da4",
   "metadata": {},
   "source": [
    "### **Dataset After This Step**"
   ]
  },
  {
   "cell_type": "code",
   "execution_count": null,
   "id": "c93e305d",
   "metadata": {},
   "outputs": [],
   "source": [
    "columns_to_impute = ['workclass', 'occupation', 'native-country']\n",
    "for col in columns_to_impute:\n",
    "    mode_val = df[col].mode()[0]\n",
    "    df[col] = df[col].fillna(mode_val)\n",
    "\n",
    "# Check if there are any missing values left\n",
    "missing_values_after = df.isna().sum()\n",
    "print(\"Missing values after imputation:\")\n",
    "print(missing_values_after)"
   ]
  },
  {
   "cell_type": "markdown",
   "id": "d7ae8793",
   "metadata": {},
   "source": [
    "### **Encoding Categorical Features**\n",
    "\n",
    "Machine learning models typically require numerical input. Therefore, we will encode categorical features such as `education`, `marital-status`, and `occupation` using:\n",
    "\n",
    "- **One-hot encoding** for features with no ordinal relationship.\n",
    "- **Label encoding** for features with inherent order (if applicable)."
   ]
  },
  {
   "cell_type": "code",
   "execution_count": 77,
   "id": "173151e6",
   "metadata": {},
   "outputs": [
    {
     "name": "stdout",
     "output_type": "stream",
     "text": [
      "(48842, 15)\n"
     ]
    }
   ],
   "source": [
    "from sklearn.preprocessing import LabelEncoder\n",
    "print(df.shape)\n",
    "# Label encode 'education' (ordinal)\n",
    "education_order = [\n",
    "    'Preschool', '1st-4th', '5th-6th', '7th-8th', '9th',\n",
    "    '10th', '11th', '12th', 'HS-grad',\n",
    "    'Some-college', 'Assoc-voc', 'Assoc-acdm',\n",
    "    'Bachelors', 'Masters', 'Doctorate'\n",
    "]\n",
    "\n",
    "df['education'] = pd.Categorical(df['education'], categories=education_order, ordered=True)\n",
    "df['education'] = df['education'].cat.codes\n",
    "\n",
    "# One-hot encode nominal categorical features\n",
    "one_hot_cols = [\n",
    "    'workclass', 'marital-status', 'occupation', 'relationship',\n",
    "    'race', 'sex', 'native-country'\n",
    "]\n",
    "\n",
    "df = pd.get_dummies(df, columns=one_hot_cols, drop_first=True)\n",
    "\n",
    "df['income'] = df['income'].map({'<=50K': 0, '>50K': 1})"
   ]
  },
  {
   "cell_type": "code",
   "execution_count": null,
   "id": "30080a47",
   "metadata": {},
   "outputs": [],
   "source": [
    "# Display the first 5 rows to check encoding results\n",
    "df.head()"
   ]
  },
  {
   "cell_type": "markdown",
   "id": "775ff236",
   "metadata": {},
   "source": [
    "### **Enconding Reasoning and Results**\n",
    "\n",
    "We encoded the categorical features to convert them into a numeric format suitable for machine learning algorithms. Since the education feature has a clear order of attainment levels, we applied label encoding based on its natural hierarchy, preserving the ordinal relationship. For other categorical features without inherent order—such as workclass, marital-status, occupation, relationship, race, sex, and native-country—we applied one-hot encoding, which created new binary columns for each category. This expanded the feature space but allowed models to interpret categorical data effectively. Lastly, the target variable income was binarized to 0 and 1, facilitating binary classification. This preprocessing step transformed all relevant columns into numeric form, enabling downstream model training."
   ]
  },
  {
   "cell_type": "code",
   "execution_count": null,
   "id": "55bff2f4",
   "metadata": {},
   "outputs": [],
   "source": [
    "print(df.shape)"
   ]
  },
  {
   "cell_type": "markdown",
   "id": "0f24e945",
   "metadata": {},
   "source": [
    "### **Why Does The Data Change Shape**\n",
    "\n",
    "The dataset’s number of columns increases after encoding because one-hot encoding creates a new binary column for each category in the original categorical features. This expands the feature space to convert categorical data into a numeric format suitable for machine learning."
   ]
  },
  {
   "cell_type": "markdown",
   "id": "1458a990",
   "metadata": {},
   "source": [
    "### **Transforming Numerical Features**\n",
    "\n",
    "Some continuous numerical features contain extreme or highly granular values that could introduce noise:\n",
    "\n",
    "- `hours-per-week` includes values as low as 1 and as high as 99 — we may **clip or bin these values** into broader categories (e.g., part-time, full-time, overtime).\n",
    "- `capital-gain` and `capital-loss` have **many rare and highly specific values**, most of which are zero — we may **bucketize or simplify** these into categories like \"none\", \"low\", and \"high\"."
   ]
  },
  {
   "cell_type": "code",
   "execution_count": null,
   "id": "1fa0ba95",
   "metadata": {},
   "outputs": [],
   "source": [
    "import matplotlib.pyplot as plt\n",
    "\n",
    "# Plot capital-gain distribution (log scale to handle skewness)\n",
    "plt.figure(figsize=(12,5))\n",
    "\n",
    "plt.subplot(1, 2, 1)\n",
    "plt.hist(df['capital-gain'], bins=50, color='skyblue')\n",
    "plt.title('Capital Gain Distribution')\n",
    "plt.xlabel('Capital Gain')\n",
    "plt.ylabel('Frequency')\n",
    "plt.yscale('log')  # Log scale for better visibility of rare high values\n",
    "\n",
    "plt.subplot(1, 2, 2)\n",
    "plt.hist(df['capital-loss'], bins=50, color='salmon')\n",
    "plt.title('Capital Loss Distribution')\n",
    "plt.xlabel('Capital Loss')\n",
    "plt.ylabel('Frequency')\n",
    "plt.yscale('log')\n",
    "\n",
    "plt.tight_layout()\n",
    "plt.show()\n",
    "\n",
    "# Also, print value counts for the top values to see where to place threshold\n",
    "print(\"Top capital-gain values:\")\n",
    "print(df['capital-gain'].value_counts().head(20))\n",
    "\n",
    "print(\"\\nTop capital-loss values:\")\n",
    "print(df['capital-loss'].value_counts().head(20))\n"
   ]
  },
  {
   "cell_type": "markdown",
   "id": "7394c5f3",
   "metadata": {},
   "source": [
    "### **Binning Strategy**\n",
    "\n",
    "To simplify the numerical features and reduce noise from extreme values, we binned capital-gain and capital-loss into three categories: \"none\" for zero values, \"low\" for values up to a chosen threshold, and \"high\" for values above it. Based on data distribution analysis, we selected 7,000 as the threshold for capital-gain and 2,000 for capital-loss. Additionally, we transformed hours-per-week into categorical bins representing work intensity: \"part-time\" (≤30 hours), \"full-time\" (31–40 hours), and \"overtime\" (>40 hours). This binning strategy groups continuous values into meaningful categories, helping reduce noise and improving model interpretability."
   ]
  },
  {
   "cell_type": "code",
   "execution_count": null,
   "id": "2ebd5ede",
   "metadata": {},
   "outputs": [],
   "source": [
    "import numpy as np\n",
    "\n",
    "\n",
    "# Copy original dataframe\n",
    "df_transformed = df.copy()\n",
    "\n",
    "# Binning hours-per-week\n",
    "def hours_bin(hours):\n",
    "    if hours <= 30:\n",
    "        return 'part-time'\n",
    "    elif hours <= 40:\n",
    "        return 'full-time'\n",
    "    else:\n",
    "        return 'overtime'\n",
    "\n",
    "df_transformed['hours-per-week-binned'] = df_transformed['hours-per-week'].apply(hours_bin)\n",
    "\n",
    "# Binning capital-gain\n",
    "def capital_gain_bin(gain):\n",
    "    if gain == 0:\n",
    "        return 'none'\n",
    "    elif gain <= 7000:\n",
    "        return 'low'\n",
    "    else:\n",
    "        return 'high'\n",
    "\n",
    "df_transformed['capital-gain-binned'] = df_transformed['capital-gain'].apply(capital_gain_bin)\n",
    "\n",
    "# Binning capital-loss\n",
    "def capital_loss_bin(loss):\n",
    "    if loss == 0:\n",
    "        return 'none'\n",
    "    elif loss <= 2000:\n",
    "        return 'low'\n",
    "    else:\n",
    "        return 'high'\n",
    "\n",
    "df_transformed['capital-loss-binned'] = df_transformed['capital-loss'].apply(capital_loss_bin)\n",
    "\n",
    "# Drop original continuous columns\n",
    "df_transformed = df_transformed.drop(columns=['hours-per-week', 'capital-gain', 'capital-loss'])\n",
    "\n",
    "# One-hot encode the new binned columns\n",
    "binned_cols = ['hours-per-week-binned', 'capital-gain-binned', 'capital-loss-binned']\n",
    "df_transformed = pd.get_dummies(df_transformed, columns=binned_cols)\n",
    "# Check results\n",
    "print(df_transformed.shape)\n",
    "print(df_transformed.head())\n"
   ]
  },
  {
   "cell_type": "markdown",
   "id": "18171560",
   "metadata": {},
   "source": [
    "### **2 Versions Of Our Dataset**\n"
   ]
  },
  {
   "cell_type": "markdown",
   "id": "cb1beb2f",
   "metadata": {},
   "source": [
    "This step of transforming numerical features into binned categories was considered optional. To evaluate its impact on model performance, we decided to create and retain two versions of the dataset: one with the original continuous numerical features, and another with the binned and encoded versions. This approach allows for a direct comparison to determine which preprocessing strategy yields better results."
   ]
  },
  {
   "cell_type": "code",
   "execution_count": null,
   "id": "61f7232d",
   "metadata": {},
   "outputs": [],
   "source": [
    "df1 = df.copy()\n",
    "df2 = df_transformed.copy()"
   ]
  },
  {
   "cell_type": "markdown",
   "id": "5036be56",
   "metadata": {},
   "source": [
    "### **Splitting the Data**\n",
    "\n",
    "We will explore one approaches to splitting the dataset for training and testing:\n",
    "\n",
    "- Perform **random train/test splits** (e.g., 80/20 or 70/30) using `train_test_split` for experimentation and validation.\n",
    "\n",
    "### **Optional: Addressing Class Imbalance**\n",
    "\n",
    "If we find that the dataset is imbalanced (e.g., far more samples with income ≤50K than >50K), we may apply techniques to balance the classes:\n",
    "\n",
    "- **Oversampling** the minority class.\n",
    "- **Undersampling** the majority class.\n",
    "- Using synthetic data generation methods like **SMOTE (Synthetic Minority Over-sampling Technique)**."
   ]
  },
  {
   "cell_type": "code",
   "execution_count": null,
   "id": "9224326b",
   "metadata": {},
   "outputs": [],
   "source": [
    "from sklearn.model_selection import train_test_split\n",
    "from imblearn.over_sampling import RandomOverSampler\n",
    "from imblearn.under_sampling import RandomUnderSampler\n",
    "from imblearn.pipeline import Pipeline\n",
    "import numpy as np\n",
    "\n",
    "# Assuming df1 and df2 include features + target 'income'\n",
    "X1, y1 = df1.drop(columns='income'), df1['income']\n",
    "X2, y2 = df2.drop(columns='income'), df2['income']\n",
    "\n",
    "def generate_splits(X, y, n_splits=10, test_size=0.2, random_state=42):\n",
    "    raw_splits = []\n",
    "    over_splits = []\n",
    "    under_splits = []\n",
    "    both_splits = []\n",
    "    \n",
    "    ros = RandomOverSampler(random_state=random_state)\n",
    "    rus = RandomUnderSampler(random_state=random_state)\n",
    "    \n",
    "    for i in range(n_splits):\n",
    "        rs = random_state + i  # change seed for diversity\n",
    "        X_train, X_test, y_train, y_test = train_test_split(\n",
    "            X, y, test_size=test_size, stratify=y, random_state=rs\n",
    "        )\n",
    "        \n",
    "        # Raw (no sampling)\n",
    "        raw_splits.append((X_train, X_test, y_train, y_test))\n",
    "        \n",
    "        # Oversampling only\n",
    "        X_over, y_over = ros.fit_resample(X_train, y_train)\n",
    "        over_splits.append((X_over, X_test, y_over, y_test))\n",
    "        \n",
    "        # Undersampling only\n",
    "        X_under, y_under = rus.fit_resample(X_train, y_train)\n",
    "        under_splits.append((X_under, X_test, y_under, y_test))\n",
    "        \n",
    "    \n",
    "    return raw_splits, over_splits, under_splits\n",
    "\n",
    "# Generate splits for df1\n",
    "df1_raw, df1_OverSampling, df1_UnderSampling = generate_splits(X1, y1)\n",
    "\n",
    "# Generate splits for df2\n",
    "df2_raw, df2_OverSampling, df2_UnderSampling = generate_splits(X2, y2)\n",
    "\n",
    "# Example of accessing a split:\n",
    "# X_train, X_test, y_train, y_test = df1_OverSampling[0]\n"
   ]
  },
  {
   "cell_type": "markdown",
   "id": "4ee69b64",
   "metadata": {},
   "source": [
    "### **Splitting and sampling Strategy**\n",
    "\n",
    "\n",
    "We created multiple random 80/20 train-test splits for each dataset version to ensure robust evaluation across different data partitions. To address the class imbalance present in the income target variable, we generated splits under four conditions:\n",
    "\n",
    "Raw data with no sampling applied,\n",
    "\n",
    "Oversampling of the minority class,\n",
    "\n",
    "Undersampling of the majority class, and\n",
    "\n",
    "Combination of both oversampling and undersampling.\n",
    "\n",
    "Stratified splitting was used to maintain the original class distribution in each split, ensuring consistent representation of both income classes during training and testing. This approach allows us to compare the impact of different sampling techniques on model performance more reliably."
   ]
  },
  {
   "cell_type": "markdown",
   "id": "acc1a763",
   "metadata": {},
   "source": [
    "## **Model Implementation**\n",
    "\n",
    "In this section, we will implement and evaluate various machine learning models to predict whether an individual's income exceeds $50K based on the features in the dataset. The objective is to confirm and apply machine learning theory learned in class, deepen our understanding of classification models, and identify the most effective approach for this problem.\n"
   ]
  },
  {
   "cell_type": "markdown",
   "id": "79f160bd",
   "metadata": {},
   "source": [
    "### **Evaluation Metrics**\n",
    "\n",
    "All models will be evaluated using key classification metrics to gain a comprehensive view of performance:\n",
    "\n",
    "- **Accuracy**  \n",
    "  The proportion of total predictions that are correct. Good for balanced datasets.\n",
    "\n",
    "- **Precision**  \n",
    "  The proportion of positive predictions that were actually correct. Important when false positives are costly.\n",
    "\n",
    "- **Recall**  \n",
    "  The proportion of actual positives that were correctly predicted. Important when false negatives are costly.\n",
    "\n",
    "- **F1-Score**  \n",
    "  The harmonic mean of precision and recall. Useful when you need a balance between precision and recall.\n",
    "\n",
    "- **ROC AUC Score**  \n",
    "  Measures the ability of the model to distinguish between classes across different thresholds. A higher score indicates better overall classification performance."
   ]
  },
  {
   "cell_type": "markdown",
   "id": "5508e062",
   "metadata": {},
   "source": [
    "\n",
    "### **Implemented Models**\n",
    "\n",
    "We will start by implementing the following classification models:\n",
    "\n",
    "- **Logistic Regression**  \n",
    "  A simple and interpretable linear model; it's a good baseline for binary classification tasks."
   ]
  },
  {
   "cell_type": "code",
   "execution_count": null,
   "id": "73e7e832",
   "metadata": {},
   "outputs": [],
   "source": [
    "from sklearn.pipeline import make_pipeline\n",
    "from sklearn.preprocessing import StandardScaler\n",
    "from sklearn.linear_model import LogisticRegression\n",
    "from sklearn.metrics import accuracy_score, precision_score, recall_score, f1_score, roc_auc_score\n",
    "import pandas as pd\n",
    "\n",
    "# List of dataset split arrays (you must already have these defined)\n",
    "datasets = {\n",
    "    'df1_raw': df1_raw,\n",
    "    'df1_OverSampling': df1_OverSampling,\n",
    "    'df1_UnderSampling': df1_UnderSampling,\n",
    "    'df2_raw': df2_raw,\n",
    "    'df2_OverSampling': df2_OverSampling,\n",
    "    'df2_UnderSampling': df2_UnderSampling,\n",
    "}\n",
    "\n",
    "# Initialize empty list to collect all results\n",
    "results = []\n",
    "\n",
    "for name, splits in datasets.items():\n",
    "    print(f\"\\n📦 Running Logistic Regression for dataset: {name}\")\n",
    "    \n",
    "    for i, (X_train, X_test, y_train, y_test) in enumerate(splits):\n",
    "        print(f\"  🔁 Split {i+1}/10\")\n",
    "        \n",
    "        # Create pipeline with scaling\n",
    "        model = make_pipeline(StandardScaler(), LogisticRegression(max_iter=1000))\n",
    "\n",
    "        # Train model\n",
    "        model.fit(X_train, y_train)\n",
    "\n",
    "        # Predict\n",
    "        y_pred = model.predict(X_test)\n",
    "        y_proba = model.predict_proba(X_test)[:, 1]\n",
    "\n",
    "        # Compute metrics\n",
    "        metrics = {\n",
    "            'dataset': name,\n",
    "            'accuracy': accuracy_score(y_test, y_pred),\n",
    "            'precision': precision_score(y_test, y_pred),\n",
    "            'recall': recall_score(y_test, y_pred),\n",
    "            'f1': f1_score(y_test, y_pred),\n",
    "            'roc_auc': roc_auc_score(y_test, y_proba)\n",
    "        }\n",
    "        print(f\"    Metrics: {metrics}\")\n",
    "\n",
    "        results.append(metrics)\n",
    "\n",
    "# Convert results to DataFrame\n",
    "results_df = pd.DataFrame(results)\n",
    "\n",
    "# Show average metrics per dataset\n",
    "print(\"\\n📊 Average Performance by Dataset:\")\n",
    "print(results_df.groupby('dataset').mean(numeric_only=True).round(4))\n",
    "\n",
    "# Optional: save to CSV\n",
    "results_df.to_csv(\"logistic_results.csv\", index=False)\n"
   ]
  },
  {
   "cell_type": "markdown",
   "id": "0222fe74",
   "metadata": {},
   "source": [
    "### **Conclusoes**\n",
    "\n",
    "falar do que se fez \n",
    "falar da pipeline e dizer que diminui muito o tempo de treino"
   ]
  },
  {
   "cell_type": "markdown",
   "id": "68d9b1fe",
   "metadata": {},
   "source": [
    "- **Random Forest Classifier**  \n",
    "  A robust ensemble method that reduces overfitting; chosen for its ability to handle non-linear relationships and mixed feature types.\n"
   ]
  },
  {
   "cell_type": "code",
   "execution_count": null,
   "id": "9f421044",
   "metadata": {},
   "outputs": [],
   "source": [
    "from sklearn.ensemble import RandomForestClassifier\n",
    "from sklearn.metrics import accuracy_score, precision_score, recall_score, f1_score, roc_auc_score\n",
    "import pandas as pd\n",
    "\n",
    "# List of dataset split arrays (already defined)\n",
    "datasets = {\n",
    "    'df1_raw': df1_raw,\n",
    "    'df1_OverSampling': df1_OverSampling,\n",
    "    'df1_UnderSampling': df1_UnderSampling,\n",
    "    'df2_raw': df2_raw,\n",
    "    'df2_OverSampling': df2_OverSampling,\n",
    "    'df2_UnderSampling': df2_UnderSampling,\n",
    "}\n",
    "\n",
    "# Initialize empty list to collect all results\n",
    "rf_results = []\n",
    "\n",
    "for name, splits in datasets.items():\n",
    "    print(f\"\\n🌲 Running Random Forest for dataset: {name}\")\n",
    "    \n",
    "    for i, (X_train, X_test, y_train, y_test) in enumerate(splits):\n",
    "        print(f\"  🔁 Split {i+1}/10\")\n",
    "\n",
    "        # Initialize Random Forest model\n",
    "        model = RandomForestClassifier(random_state=42, n_estimators= 100)\n",
    "\n",
    "        # Train model\n",
    "        model.fit(X_train, y_train)\n",
    "\n",
    "        # Predict\n",
    "        y_pred = model.predict(X_test)\n",
    "        y_proba = model.predict_proba(X_test)[:, 1]\n",
    "\n",
    "        # Compute metrics\n",
    "        metrics = {\n",
    "            'dataset': name,\n",
    "            'accuracy': accuracy_score(y_test, y_pred),\n",
    "            'precision': precision_score(y_test, y_pred),\n",
    "            'recall': recall_score(y_test, y_pred),\n",
    "            'f1': f1_score(y_test, y_pred),\n",
    "            'roc_auc': roc_auc_score(y_test, y_proba)\n",
    "        }\n",
    "        print(f\"    Metrics: {metrics}\")\n",
    "\n",
    "        rf_results.append(metrics)\n",
    "\n",
    "# Convert results to DataFrame\n",
    "rf_results_df = pd.DataFrame(rf_results)\n",
    "\n",
    "# Show average metrics per dataset\n",
    "print(\"\\n📊 Average Random Forest Performance by Dataset:\")\n",
    "print(rf_results_df.groupby('dataset').mean(numeric_only=True).round(4))\n",
    "\n",
    "# Optional: save to CSV\n",
    "rf_results_df.to_csv(\"random_forest_results.csv\", index=False)\n"
   ]
  },
  {
   "cell_type": "markdown",
   "id": "75fd0a8e",
   "metadata": {},
   "source": [
    "### **Conclusoes**"
   ]
  },
  {
   "cell_type": "markdown",
   "id": "31ca133c",
   "metadata": {},
   "source": [
    "- **Gradient Boosting (XGBoost or LightGBM)**  \n",
    "  A highly accurate boosting algorithm; selected for its strong performance in structured/tabular data and ability to capture complex patterns.\n"
   ]
  },
  {
   "cell_type": "code",
   "execution_count": null,
   "id": "80cb3580",
   "metadata": {},
   "outputs": [],
   "source": [
    "from xgboost import XGBClassifier\n",
    "from sklearn.metrics import accuracy_score, precision_score, recall_score, f1_score, roc_auc_score\n",
    "import pandas as pd\n",
    "\n",
    "# List of dataset split arrays (already defined)\n",
    "datasets = {\n",
    "    'df1_raw': df1_raw,\n",
    "    'df1_OverSampling': df1_OverSampling,\n",
    "    'df1_UnderSampling': df1_UnderSampling,\n",
    "    'df2_raw': df2_raw,\n",
    "    'df2_OverSampling': df2_OverSampling,\n",
    "    'df2_UnderSampling': df2_UnderSampling,\n",
    "}\n",
    "\n",
    "# Initialize list to collect results\n",
    "xgb_results = []\n",
    "\n",
    "for name, splits in datasets.items():\n",
    "    print(f\"\\n⚡ Running XGBoost for dataset: {name}\")\n",
    "    \n",
    "    for i, (X_train, X_test, y_train, y_test) in enumerate(splits):\n",
    "        print(f\"  🔁 Split {i+1}/10\")\n",
    "\n",
    "        # Initialize XGBoost model\n",
    "        model = XGBClassifier(eval_metric='logloss', random_state=42)\n",
    "\n",
    "        # Train\n",
    "        model.fit(X_train, y_train)\n",
    "\n",
    "        # Predict\n",
    "        y_pred = model.predict(X_test)\n",
    "        y_proba = model.predict_proba(X_test)[:, 1]\n",
    "\n",
    "        # Metrics\n",
    "        metrics = {\n",
    "            'dataset': name,\n",
    "            'accuracy': accuracy_score(y_test, y_pred),\n",
    "            'precision': precision_score(y_test, y_pred),\n",
    "            'recall': recall_score(y_test, y_pred),\n",
    "            'f1': f1_score(y_test, y_pred),\n",
    "            'roc_auc': roc_auc_score(y_test, y_proba)\n",
    "        }\n",
    "        print(f\"    Metrics: {metrics}\")\n",
    "\n",
    "        xgb_results.append(metrics)\n",
    "\n",
    "# Convert results to DataFrame\n",
    "xgb_results_df = pd.DataFrame(xgb_results)\n",
    "\n",
    "# Show average metrics per dataset\n",
    "print(\"\\n📊 Average XGBoost Performance by Dataset:\")\n",
    "print(xgb_results_df.groupby('dataset').mean(numeric_only=True).round(4))\n",
    "\n",
    "# Optional: Save to CSV\n",
    "xgb_results_df.to_csv(\"xgboost_results.csv\", index=False)\n"
   ]
  },
  {
   "cell_type": "markdown",
   "id": "bf9020f7",
   "metadata": {},
   "source": [
    "### **Conclusoes**"
   ]
  },
  {
   "cell_type": "markdown",
   "id": "2a828035",
   "metadata": {},
   "source": [
    "### **Hyperparameter Tuning and Model Selection**\n",
    "\n",
    "To improve model performance, we may apply:\n",
    "\n",
    "- **Cross-validation**  \n",
    "  Using k-fold cross-validation to evaluate model reliability across different data splits.\n",
    "\n",
    "- **Grid Search or Randomized Search**  \n",
    "  For systematic tuning of hyperparameters, especially in Random Forest and Gradient Boosting models.\n",
    "\n",
    "As an enhancement, we performed hyperparameter tuning using GridSearchCV for Random Forest and RandomizedSearchCV for XGBoost. This process involved k-fold cross-validation to systematically evaluate model performance across different parameter settings. The objective was to identify configurations that improve classification metrics such as F1-score and ROC AUC, thereby strengthening the model's generalization capability. Once optimal parameters were found, the models were re-evaluated to confirm the improvement."
   ]
  },
  {
   "cell_type": "markdown",
   "id": "c9fc50bf",
   "metadata": {},
   "source": [
    "### **Random Forest Hyperparameter Tuning**\n",
    "\n",
    "We will find 3 different tunes. One for each of these metrics f1,precision,recall,accuracy\n",
    "\n",
    "We will use the best dataset accordingly.\n",
    "\n",
    "For example:\n",
    "\n",
    "📊 Average Random Forest Performance by Dataset:\n",
    "                   accuracy  precision  recall      f1  roc_auc\n",
    "dataset                                                        \n",
    "df1_OverSampling     0.8467     0.6792  0.6815  0.6803   0.8997\n",
    "df1_UnderSampling    0.8122     0.5746  0.8300  0.6791   0.9030\n",
    "df1_raw              0.8540     0.7305  0.6178  0.6694   0.9024\n",
    "df2_OverSampling     0.8346     0.6514  0.6647  0.6580   0.8886\n",
    "df2_UnderSampling    0.8058     0.5655  0.8156  0.6679   0.8952\n",
    "df2_raw              0.8425     0.6986  0.6016  0.6464   0.8920\n",
    "\n",
    "\n",
    "We will get the hyper parameters to maximize f1 in the df1_OverSampling\n",
    "maximize precision and accuracy in df1_raw\n",
    "maximize recall in df1_UnderSampling\n",
    "\n",
    "\n",
    "\n",
    "Best parameters for F1: {'max_depth': None, 'min_samples_leaf': 1, 'min_samples_split': 2, 'n_estimators': 100}\n",
    "Best F1 score from CV: 0.9346096604901941\n",
    "\n",
    "Best parameters for Precision: {'max_depth': 10, 'min_samples_leaf': 1, 'min_samples_split': 2, 'n_estimators': 200}\n",
    "Best Precision from CV: 0.792846480758207\n",
    "\n",
    "Best parameters for Recall: {'max_depth': 10, 'min_samples_leaf': 2, 'min_samples_split': 5, 'n_estimators': 100}\n",
    "Best Recall from CV: 0.8921802674082911"
   ]
  },
  {
   "cell_type": "code",
   "execution_count": null,
   "id": "5852974b",
   "metadata": {},
   "outputs": [],
   "source": [
    "from sklearn.ensemble import RandomForestClassifier\n",
    "from sklearn.model_selection import GridSearchCV, StratifiedKFold\n",
    "from sklearn.metrics import f1_score\n",
    "\n",
    "# Use split 0 from df1_OverSampling\n",
    "X_train, X_test, y_train, y_test = df1_OverSampling[0]\n",
    "\n",
    "# Parameter grid\n",
    "param_grid = {\n",
    "    'n_estimators': [100, 200],\n",
    "    'max_depth': [None, 10, 20],\n",
    "    'min_samples_split': [2, 5],\n",
    "    'min_samples_leaf': [1, 2]\n",
    "}\n",
    "\n",
    "# Initialize model\n",
    "rf = RandomForestClassifier(random_state=42)\n",
    "\n",
    "# Cross-validation setup\n",
    "cv = StratifiedKFold(n_splits=5, shuffle=True, random_state=42)\n",
    "\n",
    "# GridSearchCV for F1\n",
    "grid_search = GridSearchCV(estimator=rf, param_grid=param_grid, cv=cv, scoring='f1', n_jobs=-1, verbose=2)\n",
    "\n",
    "# Fit model\n",
    "grid_search.fit(X_train, y_train)\n",
    "\n",
    "# Output\n",
    "print(\"\\n🔍 Best parameters for F1:\", grid_search.best_params_)\n",
    "print(\"✅ Best F1 score from CV:\", grid_search.best_score_)\n"
   ]
  },
  {
   "cell_type": "code",
   "execution_count": null,
   "id": "e28accb0",
   "metadata": {},
   "outputs": [],
   "source": [
    "from sklearn.ensemble import RandomForestClassifier\n",
    "from sklearn.metrics import accuracy_score, precision_score, recall_score, f1_score, roc_auc_score\n",
    "import pandas as pd\n",
    "\n",
    "# List of dataset split arrays (already defined)\n",
    "datasets = {\n",
    "    'df1_OverSampling': df1_OverSampling,\n",
    "}\n",
    "\n",
    "# Initialize empty list to collect all results\n",
    "rf_results = []\n",
    "\n",
    "for name, splits in datasets.items():\n",
    "    print(f\"\\n🌲 Running Random Forest for dataset: {name}\")\n",
    "    \n",
    "    for i, (X_train, X_test, y_train, y_test) in enumerate(splits):\n",
    "        print(f\"  🔁 Split {i+1}/10\")\n",
    "\n",
    "        # Initialize Random Forest model\n",
    "        model = RandomForestClassifier(random_state=42, max_depth= None, min_samples_leaf= 1, min_samples_split= 2, n_estimators= 100)\n",
    "\n",
    "        # Train model\n",
    "        model.fit(X_train, y_train)\n",
    "\n",
    "        # Predict\n",
    "        y_pred = model.predict(X_test)\n",
    "        y_proba = model.predict_proba(X_test)[:, 1]\n",
    "\n",
    "        # Compute metrics\n",
    "        metrics = {\n",
    "            'dataset': name,\n",
    "            'accuracy': accuracy_score(y_test, y_pred),\n",
    "            'precision': precision_score(y_test, y_pred),\n",
    "            'recall': recall_score(y_test, y_pred),\n",
    "            'f1': f1_score(y_test, y_pred),\n",
    "            'roc_auc': roc_auc_score(y_test, y_proba)\n",
    "        }\n",
    "        print(f\"    Metrics: {metrics}\")\n",
    "\n",
    "        rf_results.append(metrics)\n",
    "\n",
    "# Convert results to DataFrame\n",
    "rf_results_df = pd.DataFrame(rf_results)\n",
    "\n",
    "# Show average metrics per dataset\n",
    "print(\"\\n📊 Average Random Forest Performance by Dataset:\")\n",
    "print(rf_results_df.groupby('dataset').mean(numeric_only=True).round(4))\n",
    "\n",
    "# Optional: save to CSV\n",
    "#rf_results_df.to_csv(\"random_forest_results.csv\", index=False)\n",
    "#before hyperparameter tuning\n",
    "#df1_OverSampling     0.8467     0.6792  0.6815  0.6803   0.8997\n"
   ]
  },
  {
   "cell_type": "code",
   "execution_count": null,
   "id": "7149e17e",
   "metadata": {},
   "outputs": [],
   "source": [
    "from sklearn.ensemble import RandomForestClassifier\n",
    "from sklearn.model_selection import GridSearchCV, StratifiedKFold\n",
    "\n",
    "X_train, X_test, y_train, y_test = df1_raw[0]\n",
    "\n",
    "param_grid = {\n",
    "    'n_estimators': [100, 200],\n",
    "    'max_depth': [None, 10, 20],\n",
    "    'min_samples_split': [2, 5],\n",
    "    'min_samples_leaf': [1, 2]\n",
    "}\n",
    "\n",
    "rf = RandomForestClassifier(random_state=42)\n",
    "cv = StratifiedKFold(n_splits=5, shuffle=True, random_state=42)\n",
    "\n",
    "grid_search = GridSearchCV(estimator=rf, param_grid=param_grid, cv=cv, scoring='precision', n_jobs=-1, verbose=2)\n",
    "grid_search.fit(X_train, y_train)\n",
    "\n",
    "print(\"\\n🎯 Best parameters for Precision:\", grid_search.best_params_)\n",
    "print(\"✅ Best Precision from CV:\", grid_search.best_score_)\n"
   ]
  },
  {
   "cell_type": "code",
   "execution_count": null,
   "id": "7947c2c4",
   "metadata": {},
   "outputs": [],
   "source": [
    "from sklearn.ensemble import RandomForestClassifier\n",
    "from sklearn.metrics import accuracy_score, precision_score, recall_score, f1_score, roc_auc_score\n",
    "import pandas as pd\n",
    "\n",
    "# List of dataset split arrays (already defined)\n",
    "datasets = {\n",
    "    'df1_raw': df1_raw,\n",
    "}\n",
    "\n",
    "# Initialize empty list to collect all results\n",
    "rf_results = []\n",
    "\n",
    "for name, splits in datasets.items():\n",
    "    print(f\"\\n🌲 Running Random Forest for dataset: {name}\")\n",
    "    \n",
    "    for i, (X_train, X_test, y_train, y_test) in enumerate(splits):\n",
    "        print(f\"  🔁 Split {i+1}/10\")\n",
    "\n",
    "        # Initialize Random Forest model\n",
    "        model = RandomForestClassifier(random_state=42, max_depth= 10, min_samples_leaf= 1, min_samples_split=2, n_estimators=200)\n",
    "\n",
    "        # Train model\n",
    "        model.fit(X_train, y_train)\n",
    "\n",
    "        # Predict\n",
    "        y_pred = model.predict(X_test)\n",
    "        y_proba = model.predict_proba(X_test)[:, 1]\n",
    "\n",
    "        # Compute metrics\n",
    "        metrics = {\n",
    "            'dataset': name,\n",
    "            'accuracy': accuracy_score(y_test, y_pred),\n",
    "            'precision': precision_score(y_test, y_pred),\n",
    "            'recall': recall_score(y_test, y_pred),\n",
    "            'f1': f1_score(y_test, y_pred),\n",
    "            'roc_auc': roc_auc_score(y_test, y_proba)\n",
    "        }\n",
    "        print(f\"    Metrics: {metrics}\")\n",
    "\n",
    "        rf_results.append(metrics)\n",
    "\n",
    "# Convert results to DataFrame\n",
    "rf_results_df = pd.DataFrame(rf_results)\n",
    "\n",
    "# Show average metrics per dataset\n",
    "print(\"\\n📊 Average Random Forest Performance by Dataset:\")\n",
    "print(rf_results_df.groupby('dataset').mean(numeric_only=True).round(4))\n",
    "\n",
    "# Optional: save to CSV\n",
    "#rf_results_df.to_csv(\"random_forest_results.csv\", index=False)\n",
    "#before hyperparameter tuning\n",
    "#df1_raw              0.8540     0.7305  0.6178  0.6694   0.9024\n"
   ]
  },
  {
   "cell_type": "code",
   "execution_count": null,
   "id": "78c69c3a",
   "metadata": {},
   "outputs": [],
   "source": [
    "from sklearn.ensemble import RandomForestClassifier\n",
    "from sklearn.model_selection import GridSearchCV, StratifiedKFold\n",
    "\n",
    "X_train, X_test, y_train, y_test = df1_raw[0]\n",
    "\n",
    "param_grid = {\n",
    "    'n_estimators': [100, 200],\n",
    "    'max_depth': [None, 10, 20],\n",
    "    'min_samples_split': [2, 5],\n",
    "    'min_samples_leaf': [1, 2]\n",
    "}\n",
    "\n",
    "rf = RandomForestClassifier(random_state=42)\n",
    "cv = StratifiedKFold(n_splits=5, shuffle=True, random_state=42)\n",
    "\n",
    "grid_search = GridSearchCV(estimator=rf, param_grid=param_grid, cv=cv, scoring='accuracy', n_jobs=-1, verbose=2)\n",
    "grid_search.fit(X_train, y_train)\n",
    "\n",
    "print(\"\\n🎯 Best parameters for Accuracy:\", grid_search.best_params_)\n",
    "print(\"✅ Best Precision from CV:\", grid_search.best_score_)\n"
   ]
  },
  {
   "cell_type": "code",
   "execution_count": 88,
   "id": "62761746",
   "metadata": {},
   "outputs": [
    {
     "name": "stdout",
     "output_type": "stream",
     "text": [
      "\n",
      "🌲 Running Random Forest for dataset: df1_raw\n",
      "  🔁 Split 1/10\n",
      "    Metrics: {'dataset': 'df1_raw', 'accuracy': 0.8683590950967346, 'precision': 0.7849404117009751, 'recall': 0.6197604790419161, 'f1': 0.6926386233269598, 'roc_auc': np.float64(0.9195892487474442)}\n",
      "  🔁 Split 2/10\n",
      "    Metrics: {'dataset': 'df1_raw', 'accuracy': 0.8657999795270754, 'precision': 0.7738666666666667, 'recall': 0.6206159110350727, 'f1': 0.6888203180631379, 'roc_auc': np.float64(0.9189594742115054)}\n",
      "  🔁 Split 3/10\n",
      "    Metrics: {'dataset': 'df1_raw', 'accuracy': 0.8638550516941345, 'precision': 0.771551724137931, 'recall': 0.6124893071000855, 'f1': 0.6828803051979018, 'roc_auc': np.float64(0.9177109763401854)}\n",
      "  🔁 Split 4/10\n",
      "    Metrics: {'dataset': 'df1_raw', 'accuracy': 0.8657999795270754, 'precision': 0.7804478427089022, 'recall': 0.6112061591103507, 'f1': 0.6855360997841209, 'roc_auc': np.float64(0.9161577358576577)}\n",
      "  🔁 Split 5/10\n",
      "    Metrics: {'dataset': 'df1_raw', 'accuracy': 0.8635479578257754, 'precision': 0.7688603531300161, 'recall': 0.6146278870829769, 'f1': 0.6831471357261707, 'roc_auc': np.float64(0.9141402586142093)}\n",
      "  🔁 Split 6/10\n",
      "    Metrics: {'dataset': 'df1_raw', 'accuracy': 0.8632408639574163, 'precision': 0.7696447793326158, 'recall': 0.611633875106929, 'f1': 0.6816015252621545, 'roc_auc': np.float64(0.9153802378517663)}\n",
      "  🔁 Split 7/10\n",
      "    Metrics: {'dataset': 'df1_raw', 'accuracy': 0.8595557375371071, 'precision': 0.7558262711864406, 'recall': 0.6103507271171942, 'f1': 0.6753431140558448, 'roc_auc': np.float64(0.9183254691378533)}\n",
      "  🔁 Split 8/10\n",
      "    Metrics: {'dataset': 'df1_raw', 'accuracy': 0.8655952502815027, 'precision': 0.7817482133040132, 'recall': 0.6082121471343028, 'f1': 0.6841472215540053, 'roc_auc': np.float64(0.918928018580752)}\n",
      "  🔁 Split 9/10\n",
      "    Metrics: {'dataset': 'df1_raw', 'accuracy': 0.8581226328180981, 'precision': 0.7647385984427141, 'recall': 0.588109495295124, 'f1': 0.6648936170212766, 'roc_auc': np.float64(0.9105340273947751)}\n",
      "  🔁 Split 10/10\n",
      "    Metrics: {'dataset': 'df1_raw', 'accuracy': 0.8645716040536391, 'precision': 0.7827298050139275, 'recall': 0.6009409751924722, 'f1': 0.679893539801597, 'roc_auc': np.float64(0.9179983938921856)}\n",
      "\n",
      "📊 Average Random Forest Performance by Dataset:\n",
      "         accuracy  precision  recall      f1  roc_auc\n",
      "dataset                                              \n",
      "df1_raw    0.8638     0.7734  0.6098  0.6819   0.9168\n"
     ]
    }
   ],
   "source": [
    "from sklearn.ensemble import RandomForestClassifier\n",
    "from sklearn.metrics import accuracy_score, precision_score, recall_score, f1_score, roc_auc_score\n",
    "import pandas as pd\n",
    "\n",
    "# List of dataset split arrays (already defined)\n",
    "datasets = {\n",
    "    'df1_raw': df1_raw,\n",
    "}\n",
    "\n",
    "# Initialize empty list to collect all results\n",
    "rf_results = []\n",
    "\n",
    "for name, splits in datasets.items():\n",
    "    print(f\"\\n🌲 Running Random Forest for dataset: {name}\")\n",
    "    \n",
    "    for i, (X_train, X_test, y_train, y_test) in enumerate(splits):\n",
    "        print(f\"  🔁 Split {i+1}/10\")\n",
    "\n",
    "        # Initialize Random Forest model\n",
    "        model = RandomForestClassifier(random_state=42, max_depth= None, min_samples_leaf= 2, min_samples_split=2, n_estimators=100)\n",
    "\n",
    "        # Train model\n",
    "        model.fit(X_train, y_train)\n",
    "\n",
    "        # Predict\n",
    "        y_pred = model.predict(X_test)\n",
    "        y_proba = model.predict_proba(X_test)[:, 1]\n",
    "\n",
    "        # Compute metrics\n",
    "        metrics = {\n",
    "            'dataset': name,\n",
    "            'accuracy': accuracy_score(y_test, y_pred),\n",
    "            'precision': precision_score(y_test, y_pred),\n",
    "            'recall': recall_score(y_test, y_pred),\n",
    "            'f1': f1_score(y_test, y_pred),\n",
    "            'roc_auc': roc_auc_score(y_test, y_proba)\n",
    "        }\n",
    "        print(f\"    Metrics: {metrics}\")\n",
    "\n",
    "        rf_results.append(metrics)\n",
    "\n",
    "# Convert results to DataFrame\n",
    "rf_results_df = pd.DataFrame(rf_results)\n",
    "\n",
    "# Show average metrics per dataset\n",
    "print(\"\\n📊 Average Random Forest Performance by Dataset:\")\n",
    "print(rf_results_df.groupby('dataset').mean(numeric_only=True).round(4))\n",
    "\n",
    "# Optional: save to CSV\n",
    "#rf_results_df.to_csv(\"random_forest_results.csv\", index=False)\n",
    "#before hyperparameter tuning\n",
    "#df1_raw              0.8540     0.7305  0.6178  0.6694   0.9024\n"
   ]
  },
  {
   "cell_type": "code",
   "execution_count": null,
   "id": "9134a3ed",
   "metadata": {},
   "outputs": [],
   "source": [
    "from sklearn.ensemble import RandomForestClassifier\n",
    "from sklearn.model_selection import GridSearchCV, StratifiedKFold\n",
    "\n",
    "X_train, X_test, y_train, y_test = df1_UnderSampling[0]\n",
    "\n",
    "param_grid = {\n",
    "    'n_estimators': [100, 200],\n",
    "    'max_depth': [None, 10, 20],\n",
    "    'min_samples_split': [2, 5],\n",
    "    'min_samples_leaf': [1, 2]\n",
    "}\n",
    "\n",
    "rf = RandomForestClassifier(random_state=42)\n",
    "cv = StratifiedKFold(n_splits=5, shuffle=True, random_state=42)\n",
    "\n",
    "grid_search = GridSearchCV(estimator=rf, param_grid=param_grid, cv=cv, scoring='recall', n_jobs=-1, verbose=2)\n",
    "grid_search.fit(X_train, y_train)\n",
    "\n",
    "print(\"\\n📈 Best parameters for Recall:\", grid_search.best_params_)\n",
    "print(\"✅ Best Recall from CV:\", grid_search.best_score_)\n"
   ]
  },
  {
   "cell_type": "code",
   "execution_count": null,
   "id": "5a1def55",
   "metadata": {},
   "outputs": [
    {
     "name": "stdout",
     "output_type": "stream",
     "text": [
      "\n",
      "🌲 Running Random Forest for dataset: df1_UnderSampling\n",
      "  🔁 Split 1/10\n",
      "    Metrics: {'dataset': 'df1_UnderSampling', 'accuracy': 0.7968062237690654, 'precision': 0.5462405030128373, 'recall': 0.8917878528656972, 'f1': 0.677497969130788, 'roc_auc': np.float64(0.9136711581738768)}\n",
      "  🔁 Split 2/10\n",
      "    Metrics: {'dataset': 'df1_UnderSampling', 'accuracy': 0.7906643464018835, 'precision': 0.5377674658417118, 'recall': 0.8922155688622755, 'f1': 0.6710632137686987, 'roc_auc': np.float64(0.9109044440676293)}\n",
      "  🔁 Split 3/10\n",
      "    Metrics: {'dataset': 'df1_UnderSampling', 'accuracy': 0.7887194185689426, 'precision': 0.5349133537206932, 'recall': 0.897775876817793, 'f1': 0.6703928457361865, 'roc_auc': np.float64(0.9113719040953794)}\n",
      "  🔁 Split 4/10\n",
      "    Metrics: {'dataset': 'df1_UnderSampling', 'accuracy': 0.7936329204626881, 'precision': 0.5428647497337593, 'recall': 0.8721129170230967, 'f1': 0.66918280275681, 'roc_auc': np.float64(0.9086794690220459)}\n",
      "  🔁 Split 5/10\n",
      "    Metrics: {'dataset': 'df1_UnderSampling', 'accuracy': 0.7811444364827516, 'precision': 0.5251762336354482, 'recall': 0.8922155688622755, 'f1': 0.6611727416798732, 'roc_auc': np.float64(0.9067775689177617)}\n",
      "  🔁 Split 6/10\n",
      "    Metrics: {'dataset': 'df1_UnderSampling', 'accuracy': 0.7824751765789743, 'precision': 0.5269961977186312, 'recall': 0.8892215568862275, 'f1': 0.6617857711284418, 'roc_auc': np.float64(0.907653088770265)}\n",
      "  🔁 Split 7/10\n",
      "    Metrics: {'dataset': 'df1_UnderSampling', 'accuracy': 0.7899477940423789, 'precision': 0.5366666666666666, 'recall': 0.8952095808383234, 'f1': 0.6710484129528695, 'roc_auc': np.float64(0.9086359836990188)}\n",
      "  🔁 Split 8/10\n",
      "    Metrics: {'dataset': 'df1_UnderSampling', 'accuracy': 0.7923021803664654, 'precision': 0.5397683397683398, 'recall': 0.8969204448246364, 'f1': 0.6739514703519203, 'roc_auc': np.float64(0.9111881778861102)}\n",
      "  🔁 Split 9/10\n",
      "    Metrics: {'dataset': 'df1_UnderSampling', 'accuracy': 0.7887194185689426, 'precision': 0.5356585111920874, 'recall': 0.8802395209580839, 'f1': 0.6660194174757281, 'roc_auc': np.float64(0.9016362856500506)}\n",
      "  🔁 Split 10/10\n",
      "    Metrics: {'dataset': 'df1_UnderSampling', 'accuracy': 0.8007984440577336, 'precision': 0.5519618239660657, 'recall': 0.8905047048759623, 'f1': 0.681505728314239, 'roc_auc': np.float64(0.9113947547548653)}\n",
      "\n",
      "📊 Average Random Forest Performance by Dataset:\n",
      "                   accuracy  precision  recall      f1  roc_auc\n",
      "dataset                                                        \n",
      "df1_UnderSampling    0.7905     0.5378  0.8898  0.6704   0.9092\n"
     ]
    }
   ],
   "source": [
    "from sklearn.ensemble import RandomForestClassifier\n",
    "from sklearn.metrics import accuracy_score, precision_score, recall_score, f1_score, roc_auc_score\n",
    "import pandas as pd\n",
    "\n",
    "# List of dataset split arrays (already defined)\n",
    "datasets = {\n",
    "    'df1_UnderSampling': df1_UnderSampling,\n",
    "}\n",
    "\n",
    "# Initialize empty list to collect all results\n",
    "rf_results = []\n",
    "\n",
    "for name, splits in datasets.items():\n",
    "    print(f\"\\n🌲 Running Random Forest for dataset: {name}\")\n",
    "    \n",
    "    for i, (X_train, X_test, y_train, y_test) in enumerate(splits):\n",
    "        print(f\"  🔁 Split {i+1}/10\")\n",
    "\n",
    "        # Initialize Random Forest model\n",
    "        model = RandomForestClassifier(random_state=42, max_depth=10, min_samples_leaf=2, min_samples_split=5, n_estimators= 100)\n",
    "\n",
    "        # Train model\n",
    "        model.fit(X_train, y_train)\n",
    "\n",
    "        # Predict\n",
    "        y_pred = model.predict(X_test)\n",
    "        y_proba = model.predict_proba(X_test)[:, 1]\n",
    "\n",
    "        # Compute metrics\n",
    "        metrics = {\n",
    "            'dataset': name,\n",
    "            'accuracy': accuracy_score(y_test, y_pred),\n",
    "            'precision': precision_score(y_test, y_pred),\n",
    "            'recall': recall_score(y_test, y_pred),\n",
    "            'f1': f1_score(y_test, y_pred),\n",
    "            'roc_auc': roc_auc_score(y_test, y_proba)\n",
    "        }\n",
    "        print(f\"    Metrics: {metrics}\")\n",
    "\n",
    "        rf_results.append(metrics)\n",
    "\n",
    "# Convert results to DataFrame\n",
    "rf_results_df = pd.DataFrame(rf_results)\n",
    "\n",
    "# Show average metrics per dataset\n",
    "print(\"\\n📊 Average Random Forest Performance by Dataset:\")\n",
    "print(rf_results_df.groupby('dataset').mean(numeric_only=True).round(4))\n",
    "\n",
    "# Optional: save to CSV\n",
    "#rf_results_df.to_csv(\"random_forest_results.csv\", index=False)\n",
    "#before hyperparameter tuning\n",
    "#df1_UnderSampling    0.8122     0.5746  0.8300  0.6791   0.9030\n",
    "\n"
   ]
  },
  {
   "cell_type": "markdown",
   "id": "e79299a8",
   "metadata": {},
   "source": [
    "### **XGboost Hyperparameter Tuning**\n",
    "\n",
    "We will find 3 different tunes. One for each of these metrics f1,precision,recall,accuracy\n",
    "\n",
    "We will use the best dataset accordingly.\n",
    "\n",
    "For example:\n",
    "\n",
    "📊 Average XGBoost Performance by Dataset:\n",
    "                   accuracy  precision  recall      f1  roc_auc\n",
    "dataset                                                        \n",
    "df1_OverSampling     0.8357     0.6135  0.8472  0.7116   0.9268\n",
    "df1_UnderSampling    0.8264     0.5943  0.8659  0.7049   0.9251\n",
    "df1_raw              0.8711     0.7740  0.6517  0.7075   0.9275\n",
    "df2_OverSampling     0.8194     0.5868  0.8291  0.6872   0.9101\n",
    "df2_UnderSampling    0.8092     0.5675  0.8523  0.6813   0.9101\n",
    "df2_raw              0.8582     0.7447  0.6202  0.6767   0.9122\n",
    "\n",
    "\n",
    "We will get the hyper parameters to maximize f1 in the df1_OverSampling\n",
    "maximize precision and accuracy in df1_raw\n",
    "maximize recall in df1_UnderSampling"
   ]
  },
  {
   "cell_type": "code",
   "execution_count": null,
   "id": "fdf99646",
   "metadata": {},
   "outputs": [],
   "source": [
    "from xgboost import XGBClassifier\n",
    "from sklearn.model_selection import GridSearchCV, StratifiedKFold\n",
    "\n",
    "# Define parameter grid for XGBoost\n",
    "xgb_param_grid = {\n",
    "    'n_estimators': [100, 200],\n",
    "    'max_depth': [3, 6, 10],\n",
    "    'learning_rate': [0.01, 0.1, 0.2],\n",
    "    'subsample': [0.8, 1.0],\n",
    "    'colsample_bytree': [0.8, 1.0]\n",
    "}\n",
    "\n",
    "# Common cross-validation strategy\n",
    "cv = StratifiedKFold(n_splits=5, shuffle=True, random_state=42)\n"
   ]
  },
  {
   "cell_type": "code",
   "execution_count": null,
   "id": "ff2ddc03",
   "metadata": {},
   "outputs": [],
   "source": [
    "X_train, X_test, y_train, y_test = df1_OverSampling[0]\n",
    "\n",
    "grid_search_f1 = GridSearchCV(\n",
    "    estimator=XGBClassifier(eval_metric='logloss', random_state=42),\n",
    "    param_grid=xgb_param_grid,\n",
    "    cv=cv,\n",
    "    scoring='f1',\n",
    "    n_jobs=-1,\n",
    "    verbose=2\n",
    ")\n",
    "\n",
    "grid_search_f1.fit(X_train, y_train)\n",
    "\n",
    "print(\"\\n🎯 Best parameters for F1:\", grid_search_f1.best_params_)\n",
    "print(\"✅ Best F1 score from CV:\", grid_search_f1.best_score_)\n"
   ]
  },
  {
   "cell_type": "code",
   "execution_count": null,
   "id": "91c38fa9",
   "metadata": {},
   "outputs": [],
   "source": [
    "from xgboost import XGBClassifier\n",
    "from sklearn.metrics import accuracy_score, precision_score, recall_score, f1_score, roc_auc_score\n",
    "import pandas as pd\n",
    "\n",
    "# List of dataset split arrays (already defined)\n",
    "datasets = {\n",
    "    'df1_OverSampling': df1_OverSampling,\n",
    "}\n",
    "\n",
    "# Initialize list to collect results\n",
    "xgb_results = []\n",
    "\n",
    "for name, splits in datasets.items():\n",
    "    print(f\"\\n⚡ Running XGBoost for dataset: {name}\")\n",
    "    \n",
    "    for i, (X_train, X_test, y_train, y_test) in enumerate(splits):\n",
    "        print(f\"  🔁 Split {i+1}/10\")\n",
    "\n",
    "        # Initialize XGBoost model\n",
    "        model = XGBClassifier(eval_metric='logloss', random_state=42, colsample_bytree=1.0, learning_rate=0.2, max_depth= 10, n_estimators= 200, subsample= 0.8)\n",
    "\n",
    "        # Train\n",
    "        model.fit(X_train, y_train)\n",
    "\n",
    "        # Predict\n",
    "        y_pred = model.predict(X_test)\n",
    "        y_proba = model.predict_proba(X_test)[:, 1]\n",
    "\n",
    "        # Metrics\n",
    "        metrics = {\n",
    "            'dataset': name,\n",
    "            'accuracy': accuracy_score(y_test, y_pred),\n",
    "            'precision': precision_score(y_test, y_pred),\n",
    "            'recall': recall_score(y_test, y_pred),\n",
    "            'f1': f1_score(y_test, y_pred),\n",
    "            'roc_auc': roc_auc_score(y_test, y_proba)\n",
    "        }\n",
    "        print(f\"    Metrics: {metrics}\")\n",
    "\n",
    "        xgb_results.append(metrics)\n",
    "\n",
    "# Convert results to DataFrame\n",
    "xgb_results_df = pd.DataFrame(xgb_results)\n",
    "\n",
    "# Show average metrics per dataset\n",
    "print(\"\\n📊 Average XGBoost Performance by Dataset:\")\n",
    "print(xgb_results_df.groupby('dataset').mean(numeric_only=True).round(4))\n",
    "\n",
    "# Optional: Save to CSV\n",
    "#xgb_results_df.to_csv(\"xgboost_results.csv\", index=False)\n",
    "\n",
    "#before hyperparameter tuning\n",
    "#df1_OverSampling     0.8357     0.6135  0.8472  0.7116   0.9268"
   ]
  },
  {
   "cell_type": "code",
   "execution_count": null,
   "id": "bcf72e48",
   "metadata": {},
   "outputs": [],
   "source": [
    "X_train, X_test, y_train, y_test = df1_raw[0]\n",
    "\n",
    "grid_search_precision = GridSearchCV(\n",
    "    estimator=XGBClassifier(eval_metric='logloss', random_state=42),\n",
    "    param_grid=xgb_param_grid,\n",
    "    cv=cv,\n",
    "    scoring='precision',\n",
    "    n_jobs=-1,\n",
    "    verbose=2\n",
    ")\n",
    "\n",
    "grid_search_precision.fit(X_train, y_train)\n",
    "\n",
    "print(\"\\n🎯 Best parameters for Precision:\", grid_search_precision.best_params_)\n",
    "print(\"✅ Best Precision from CV:\", grid_search_precision.best_score_)\n"
   ]
  },
  {
   "cell_type": "code",
   "execution_count": null,
   "id": "0dd2b7e4",
   "metadata": {},
   "outputs": [
    {
     "name": "stdout",
     "output_type": "stream",
     "text": [
      "\n",
      "⚡ Running XGBoost for dataset: df1_raw\n",
      "  🔁 Split 1/10\n",
      "    Metrics: {'dataset': 'df1_raw', 'accuracy': 0.8184051591769884, 'precision': 0.9845360824742269, 'recall': 0.24508126603934988, 'f1': 0.39246575342465756, 'roc_auc': np.float64(0.9008494056353527)}\n",
      "  🔁 Split 2/10\n",
      "    Metrics: {'dataset': 'df1_raw', 'accuracy': 0.8182004299314157, 'precision': 0.9795221843003413, 'recall': 0.24550898203592814, 'f1': 0.39261285909712723, 'roc_auc': np.float64(0.8971859902088667)}\n",
      "  🔁 Split 3/10\n",
      "    Metrics: {'dataset': 'df1_raw', 'accuracy': 0.8173815129491248, 'precision': 0.9775862068965517, 'recall': 0.24251497005988024, 'f1': 0.3886223440712817, 'roc_auc': np.float64(0.8978009434732244)}\n",
      "  🔁 Split 4/10\n",
      "    Metrics: {'dataset': 'df1_raw', 'accuracy': 0.8177909714402702, 'precision': 0.9894736842105263, 'recall': 0.24123182207014543, 'f1': 0.3878954607977992, 'roc_auc': np.float64(0.8971844361337882)}\n",
      "  🔁 Split 5/10\n",
      "    Metrics: {'dataset': 'df1_raw', 'accuracy': 0.8155389497389702, 'precision': 0.9855072463768116, 'recall': 0.23267750213858, 'f1': 0.3764705882352941, 'roc_auc': np.float64(0.8931918158031937)}\n",
      "  🔁 Split 6/10\n",
      "    Metrics: {'dataset': 'df1_raw', 'accuracy': 0.8142082096427474, 'precision': 0.9869646182495344, 'recall': 0.22668947818648416, 'f1': 0.36869565217391304, 'roc_auc': np.float64(0.8940087988277439)}\n",
      "  🔁 Split 7/10\n",
      "    Metrics: {'dataset': 'df1_raw', 'accuracy': 0.8153342204933974, 'precision': 0.9819494584837545, 'recall': 0.23267750213858, 'f1': 0.37621023513139695, 'roc_auc': np.float64(0.8941584217227923)}\n",
      "  🔁 Split 8/10\n",
      "    Metrics: {'dataset': 'df1_raw', 'accuracy': 0.8131845634148838, 'precision': 0.9885714285714285, 'recall': 0.2219846022241232, 'f1': 0.3625567586447782, 'roc_auc': np.float64(0.8953761834425619)}\n",
      "  🔁 Split 9/10\n",
      "    Metrics: {'dataset': 'df1_raw', 'accuracy': 0.8121609171870202, 'precision': 0.9864603481624759, 'recall': 0.21813515825491872, 'f1': 0.3572679509632224, 'roc_auc': np.float64(0.8883313596579838)}\n",
      "  🔁 Split 10/10\n",
      "    Metrics: {'dataset': 'df1_raw', 'accuracy': 0.8158460436073293, 'precision': 0.9855855855855856, 'recall': 0.2339606501283148, 'f1': 0.37815416522640855, 'roc_auc': np.float64(0.8968169261569139)}\n",
      "\n",
      "📊 Average XGBoost Performance by Dataset:\n",
      "         accuracy  precision  recall      f1  roc_auc\n",
      "dataset                                              \n",
      "df1_raw    0.8158     0.9846   0.234  0.3781   0.8955\n"
     ]
    }
   ],
   "source": [
    "from xgboost import XGBClassifier\n",
    "from sklearn.metrics import accuracy_score, precision_score, recall_score, f1_score, roc_auc_score\n",
    "import pandas as pd\n",
    "\n",
    "# List of dataset split arrays (already defined)\n",
    "datasets = {\n",
    "    'df1_raw': df1_raw\n",
    "}\n",
    "\n",
    "# Initialize list to collect results\n",
    "xgb_results = []\n",
    "\n",
    "for name, splits in datasets.items():\n",
    "    print(f\"\\n⚡ Running XGBoost for dataset: {name}\")\n",
    "    \n",
    "    for i, (X_train, X_test, y_train, y_test) in enumerate(splits):\n",
    "        print(f\"  🔁 Split {i+1}/10\")\n",
    "\n",
    "        # Initialize XGBoost model\n",
    "        model = XGBClassifier(eval_metric='logloss', random_state=42, colsample_bytree=0.8, learning_rate=0.01, max_depth= 3, n_estimators= 100, subsample= 1.0)\n",
    "\n",
    "        # Train\n",
    "        model.fit(X_train, y_train)\n",
    "\n",
    "        # Predict\n",
    "        y_pred = model.predict(X_test)\n",
    "        y_proba = model.predict_proba(X_test)[:, 1]\n",
    "\n",
    "        # Metrics\n",
    "        metrics = {\n",
    "            'dataset': name,\n",
    "            'accuracy': accuracy_score(y_test, y_pred),\n",
    "            'precision': precision_score(y_test, y_pred),\n",
    "            'recall': recall_score(y_test, y_pred),\n",
    "            'f1': f1_score(y_test, y_pred),\n",
    "            'roc_auc': roc_auc_score(y_test, y_proba)\n",
    "        }\n",
    "        print(f\"    Metrics: {metrics}\")\n",
    "\n",
    "        xgb_results.append(metrics)\n",
    "\n",
    "# Convert results to DataFrame\n",
    "xgb_results_df = pd.DataFrame(xgb_results)\n",
    "\n",
    "# Show average metrics per dataset\n",
    "print(\"\\n📊 Average XGBoost Performance by Dataset:\")\n",
    "print(xgb_results_df.groupby('dataset').mean(numeric_only=True).round(4))\n",
    "\n",
    "# Optional: Save to CSV\n",
    "#xgb_results_df.to_csv(\"xgboost_results.csv\", index=False)\n",
    "\n",
    "#before hyperparameter tuning\n",
    "#df1_raw              0.8711     0.7740  0.6517  0.7075   0.9275"
   ]
  },
  {
   "cell_type": "code",
   "execution_count": null,
   "id": "3799b178",
   "metadata": {},
   "outputs": [],
   "source": [
    "grid_search_accuracy = GridSearchCV(\n",
    "    estimator=XGBClassifier(eval_metric='logloss', random_state=42),\n",
    "    param_grid=xgb_param_grid,\n",
    "    cv=cv,\n",
    "    scoring='accuracy',\n",
    "    n_jobs=-1,\n",
    "    verbose=2\n",
    ")\n",
    "\n",
    "grid_search_accuracy.fit(X_train, y_train)  # reuse X_train, y_train from df1_raw\n",
    "\n",
    "print(\"\\n🎯 Best parameters for Accuracy:\", grid_search_accuracy.best_params_)\n",
    "print(\"✅ Best Accuracy from CV:\", grid_search_accuracy.best_score_)"
   ]
  },
  {
   "cell_type": "code",
   "execution_count": null,
   "id": "d13c6e8c",
   "metadata": {},
   "outputs": [],
   "source": [
    "from xgboost import XGBClassifier\n",
    "from sklearn.metrics import accuracy_score, precision_score, recall_score, f1_score, roc_auc_score\n",
    "import pandas as pd\n",
    "\n",
    "# List of dataset split arrays (already defined)\n",
    "datasets = {\n",
    "    'df1_raw': df1_raw,\n",
    "}\n",
    "\n",
    "# Initialize list to collect results\n",
    "xgb_results = []\n",
    "\n",
    "for name, splits in datasets.items():\n",
    "    print(f\"\\n⚡ Running XGBoost for dataset: {name}\")\n",
    "    \n",
    "    for i, (X_train, X_test, y_train, y_test) in enumerate(splits):\n",
    "        print(f\"  🔁 Split {i+1}/10\")\n",
    "\n",
    "        # Initialize XGBoost model\n",
    "        model = XGBClassifier(eval_metric='logloss', random_state=42, colsample_bytree=0.8, learning_rate=0.1, max_depth= 6, n_estimators= 200, subsample= 1.0)\n",
    "\n",
    "        # Train\n",
    "        model.fit(X_train, y_train)\n",
    "\n",
    "        # Predict\n",
    "        y_pred = model.predict(X_test)\n",
    "        y_proba = model.predict_proba(X_test)[:, 1]\n",
    "\n",
    "        # Metrics\n",
    "        metrics = {\n",
    "            'dataset': name,\n",
    "            'accuracy': accuracy_score(y_test, y_pred),\n",
    "            'precision': precision_score(y_test, y_pred),\n",
    "            'recall': recall_score(y_test, y_pred),\n",
    "            'f1': f1_score(y_test, y_pred),\n",
    "            'roc_auc': roc_auc_score(y_test, y_proba)\n",
    "        }\n",
    "        print(f\"    Metrics: {metrics}\")\n",
    "\n",
    "        xgb_results.append(metrics)\n",
    "\n",
    "# Convert results to DataFrame\n",
    "xgb_results_df = pd.DataFrame(xgb_results)\n",
    "\n",
    "# Show average metrics per dataset\n",
    "print(\"\\n📊 Average XGBoost Performance by Dataset:\")\n",
    "print(xgb_results_df.groupby('dataset').mean(numeric_only=True).round(4))\n",
    "\n",
    "# Optional: Save to CSV\n",
    "#xgb_results_df.to_csv(\"xgboost_results.csv\", index=False)\n",
    "\n",
    "#before hyperparameter tuning\n",
    "#df1_raw              0.8711     0.7740  0.6517  0.7075   0.9275"
   ]
  },
  {
   "cell_type": "code",
   "execution_count": null,
   "id": "82d33e94",
   "metadata": {},
   "outputs": [],
   "source": [
    "X_train, X_test, y_train, y_test = df1_UnderSampling[0]\n",
    "\n",
    "grid_search_recall = GridSearchCV(\n",
    "    estimator=XGBClassifier(eval_metric='logloss', random_state=42),\n",
    "    param_grid=xgb_param_grid,\n",
    "    cv=cv,\n",
    "    scoring='recall',\n",
    "    n_jobs=-1,\n",
    "    verbose=2\n",
    ")\n",
    "\n",
    "grid_search_recall.fit(X_train, y_train)\n",
    "\n",
    "print(\"\\n📈 Best parameters for Recall:\", grid_search_recall.best_params_)\n",
    "print(\"✅ Best Recall from CV:\", grid_search_recall.best_score_)\n"
   ]
  },
  {
   "cell_type": "code",
   "execution_count": null,
   "id": "83e165ff",
   "metadata": {},
   "outputs": [],
   "source": [
    "from xgboost import XGBClassifier\n",
    "from sklearn.metrics import accuracy_score, precision_score, recall_score, f1_score, roc_auc_score\n",
    "import pandas as pd\n",
    "\n",
    "# List of dataset split arrays (already defined)\n",
    "datasets = {\n",
    "    'df1_UnderSampling': df1_UnderSampling,\n",
    "}\n",
    "\n",
    "# Initialize list to collect results\n",
    "xgb_results = []\n",
    "\n",
    "for name, splits in datasets.items():\n",
    "    print(f\"\\n⚡ Running XGBoost for dataset: {name}\")\n",
    "    \n",
    "    for i, (X_train, X_test, y_train, y_test) in enumerate(splits):\n",
    "        print(f\"  🔁 Split {i+1}/10\")\n",
    "\n",
    "        # Initialize XGBoost model\n",
    "        model = XGBClassifier(eval_metric='logloss', random_state=42, colsample_bytree=0.8, learning_rate=0.01, max_depth= 3, n_estimators= 200, subsample= 1.0)\n",
    "\n",
    "        # Train\n",
    "        model.fit(X_train, y_train)\n",
    "\n",
    "        # Predict\n",
    "        y_pred = model.predict(X_test)\n",
    "        y_proba = model.predict_proba(X_test)[:, 1]\n",
    "\n",
    "        # Metrics\n",
    "        metrics = {\n",
    "            'dataset': name,\n",
    "            'accuracy': accuracy_score(y_test, y_pred),\n",
    "            'precision': precision_score(y_test, y_pred),\n",
    "            'recall': recall_score(y_test, y_pred),\n",
    "            'f1': f1_score(y_test, y_pred),\n",
    "            'roc_auc': roc_auc_score(y_test, y_proba)\n",
    "        }\n",
    "        print(f\"    Metrics: {metrics}\")\n",
    "\n",
    "        xgb_results.append(metrics)\n",
    "\n",
    "# Convert results to DataFrame\n",
    "xgb_results_df = pd.DataFrame(xgb_results)\n",
    "\n",
    "# Show average metrics per dataset\n",
    "print(\"\\n📊 Average XGBoost Performance by Dataset:\")\n",
    "print(xgb_results_df.groupby('dataset').mean(numeric_only=True).round(4))\n",
    "\n",
    "# Optional: Save to CSV\n",
    "#xgb_results_df.to_csv(\"xgboost_results.csv\", index=False)\n",
    "\n",
    "#before hyperparameter tuning\n",
    "#df1_UnderSampling    0.8264     0.5943  0.8659  0.7049   0.9251"
   ]
  },
  {
   "cell_type": "markdown",
   "id": "d56e50aa",
   "metadata": {},
   "source": [
    "\n",
    "### **Optional Models (for Extended Work)**\n",
    "\n",
    "For further exploration and comparison, the following models may be implemented:\n",
    "\n",
    "- **Support Vector Machine (SVM)**  \n",
    "  Effective in high-dimensional spaces; useful for classification with clear margins of separation.\n",
    "\n",
    "- **K-Nearest Neighbors (KNN)**  \n",
    "  A simple, instance-based method that can perform well with normalized data and lower dimensions.\n",
    "\n",
    "- **Neural Network (MLPClassifier)**  \n",
    "  A basic feed-forward neural network; useful for modeling non-linear relationships in the data.\n",
    "\n",
    "- **Naive Bayes**  \n",
    "  Fast and efficient, especially on categorical data; good as a quick baseline for comparison.\n"
   ]
  },
  {
   "cell_type": "code",
   "execution_count": null,
   "id": "fda469e9",
   "metadata": {},
   "outputs": [],
   "source": [
    "# Fazer o que diz em cima"
   ]
  },
  {
   "cell_type": "markdown",
   "id": "c6f8ddfe",
   "metadata": {},
   "source": [
    "# Simple Visualizations\n",
    "\n",
    "## For XGBoost which is our best model\n",
    "This will include:\n",
    "- confusion matrix\n",
    "- ROC curve\n",
    "- precision-recall curve\n",
    "and some other relevant info like feature importance and threshold analysis."
   ]
  },
  {
   "cell_type": "code",
   "execution_count": null,
   "id": "2bcfc5dc",
   "metadata": {},
   "outputs": [],
   "source": [
    "from sklearn.metrics import confusion_matrix, ConfusionMatrixDisplay, roc_curve, auc, precision_recall_curve\n",
    "from sklearn.metrics import accuracy_score, precision_score, recall_score, f1_score, roc_auc_score\n",
    "import matplotlib.pyplot as plt\n",
    "import seaborn as sns\n",
    "import numpy as np"
   ]
  },
  {
   "cell_type": "code",
   "execution_count": null,
   "id": "bcefd20e",
   "metadata": {},
   "outputs": [],
   "source": [
    "# get the best XGBoost model based on results\n",
    "best_model = XGBClassifier(\n",
    "    eval_metric='logloss', \n",
    "    random_state=42, \n",
    "    colsample_bytree=1.0, \n",
    "    learning_rate=0.2, \n",
    "    max_depth=10, \n",
    "    n_estimators=200, \n",
    "    subsample=0.8\n",
    ")\n",
    "\n",
    "# dataset split that performed best\n",
    "X_train, X_test, y_train, y_test = df1_OverSampling[0]  #first split\n",
    "\n",
    "# train\n",
    "best_model.fit(X_train, y_train)\n",
    "\n",
    "# predictions\n",
    "y_pred = best_model.predict(X_test)\n",
    "y_proba = best_model.predict_proba(X_test)[:, 1]"
   ]
  },
  {
   "cell_type": "code",
   "execution_count": null,
   "id": "9e05bd9f",
   "metadata": {},
   "outputs": [],
   "source": [
    "# perf metrics\n",
    "accuracy = accuracy_score(y_test, y_pred)\n",
    "precision = precision_score(y_test, y_pred)\n",
    "recall = recall_score(y_test, y_pred)\n",
    "f1 = f1_score(y_test, y_pred)\n",
    "roc_auc = roc_auc_score(y_test, y_proba)\n",
    "\n",
    "print(f\"Model Metrics:\")\n",
    "print(f\"Accuracy: {accuracy:.4f}\")\n",
    "print(f\"Precision: {precision:.4f}\")\n",
    "print(f\"Recall: {recall:.4f}\")\n",
    "print(f\"F1 Score: {f1:.4f}\")\n",
    "print(f\"ROC AUC: {roc_auc:.4f}\")"
   ]
  },
  {
   "cell_type": "markdown",
   "id": "3f1f5f1a",
   "metadata": {},
   "source": [
    "### Confusion Matrix"
   ]
  },
  {
   "cell_type": "code",
   "execution_count": 82,
   "id": "25846f45",
   "metadata": {},
   "outputs": [
    {
     "data": {
      "text/plain": [
       "<Figure size 1000x800 with 0 Axes>"
      ]
     },
     "metadata": {},
     "output_type": "display_data"
    },
    {
     "data": {
      "image/png": "[encoded data removed]",
      "text/plain": [
       "<Figure size 640x480 with 2 Axes>"
      ]
     },
     "metadata": {},
     "output_type": "display_data"
    }
   ],
   "source": [
    "# confusion matrix\n",
    "plt.figure(figsize=(10, 8))\n",
    "cm = confusion_matrix(y_test, y_pred)\n",
    "disp = ConfusionMatrixDisplay(confusion_matrix=cm, display_labels=[\"<=50K\", \">50K\"])\n",
    "disp.plot(cmap='Blues', values_format='d')\n",
    "plt.title('Confusion Matrix for XGBoost Model', fontsize=15)\n",
    "plt.savefig('figs/confusion_matrix.png', dpi=300, bbox_inches='tight')\n",
    "plt.show()"
   ]
  },
  {
   "cell_type": "markdown",
   "id": "b7d845e6",
   "metadata": {},
   "source": [
    "- True Negatives (<=50K predicted correctly): 6,527\n",
    "- False Positives (<=50K predicted as >50K): 904\n",
    "- False Negatives (>50K predicted as <=50K): 560\n",
    "- True Positives (>50K predicted correctly): 1,778\n",
    "\n"
   ]
  },
  {
   "cell_type": "markdown",
   "id": "1a119426",
   "metadata": {},
   "source": [
    "### ROC Curve"
   ]
  },
  {
   "cell_type": "code",
   "execution_count": 83,
   "id": "95b85e21",
   "metadata": {},
   "outputs": [
    {
     "data": {
      "image/png": "[encoded data removed]",
      "text/plain": [
       "<Figure size 1000x800 with 1 Axes>"
      ]
     },
     "metadata": {},
     "output_type": "display_data"
    }
   ],
   "source": [
    "# ROC Curve\n",
    "plt.figure(figsize=(10, 8))\n",
    "fpr, tpr, _ = roc_curve(y_test, y_proba)\n",
    "roc_auc = auc(fpr, tpr)\n",
    "plt.plot(fpr, tpr, color='darkorange', lw=2, label=f'ROC curve (area = {roc_auc:.3f})')\n",
    "plt.plot([0, 1], [0, 1], color='navy', lw=2, linestyle='--')\n",
    "plt.xlim([0.0, 1.0])\n",
    "plt.ylim([0.0, 1.05])\n",
    "plt.xlabel('False Positive Rate', fontsize=12)\n",
    "plt.ylabel('True Positive Rate', fontsize=12)\n",
    "plt.title('Receiver Operating Characteristic (ROC) Curve', fontsize=15)\n",
    "plt.legend(loc=\"lower right\", fontsize=12)\n",
    "plt.grid(alpha=0.3)\n",
    "plt.savefig('figs/roc_curve.png', dpi=300, bbox_inches='tight')\n",
    "plt.show()"
   ]
  },
  {
   "cell_type": "markdown",
   "id": "79730032",
   "metadata": {},
   "source": [
    "Very good value for ROC AUC: 0.9176"
   ]
  },
  {
   "cell_type": "markdown",
   "id": "2a6e1945",
   "metadata": {},
   "source": [
    "### Feature Importance"
   ]
  },
  {
   "cell_type": "code",
   "execution_count": 84,
   "id": "c09423b4",
   "metadata": {},
   "outputs": [
    {
     "data": {
      "image/png": "[encoded data removed]",
      "text/plain": [
       "<Figure size 1400x1000 with 1 Axes>"
      ]
     },
     "metadata": {},
     "output_type": "display_data"
    }
   ],
   "source": [
    "# try to understand feature Importance\n",
    "plt.figure(figsize=(14, 10))\n",
    "feature_importance = best_model.feature_importances_\n",
    "indices = np.argsort(feature_importance)[::-1]\n",
    "feature_names = X_train.columns\n",
    "\n",
    "# top 20 features\n",
    "n_features = min(20, len(feature_names))\n",
    "plt.barh(range(n_features), feature_importance[indices[:n_features]], align='center')\n",
    "plt.yticks(range(n_features), [feature_names[i] for i in indices[:n_features]])\n",
    "plt.title('XGBoost Feature Importance', fontsize=15)\n",
    "plt.xlabel('Relative Importance', fontsize=12)\n",
    "plt.tight_layout()\n",
    "plt.savefig('figs/feature_importance.png', dpi=300, bbox_inches='tight')\n",
    "plt.show()"
   ]
  },
  {
   "cell_type": "markdown",
   "id": "8f383928",
   "metadata": {},
   "source": [
    "Top 2-6 make a lot of sense, capital gain, education, capital loss and occupation were the expected results, but also interesting to see that the top 1 feature by a large margin is being married to a civilian spouse, this could be related to having a stable income and household, but also due to the fact that being married to an AF (armed forces) spouse is also a feature, which may influence the results."
   ]
  },
  {
   "cell_type": "markdown",
   "id": "6bf46025",
   "metadata": {},
   "source": [
    "# Use cases"
   ]
  },
  {
   "cell_type": "markdown",
   "id": "733a097b",
   "metadata": {},
   "source": [
    "## Governmental policy making\n",
    "\n",
    "Policymakers can use insights from income predictions to design more targeted interventions aimed at reducing income inequality. For instance, understanding how education or housing factors contribute to higher income levels can inform decisions about funding educational programs, for example helping women in rural areas, which are often at a disadvantage in terms of opportunities compared to their urban counterparts, get access to better education.\n",
    "\n",
    "For this problem we need to focus on two metrics:\n",
    "1. Recall - we need to identify as many eligible individuals as possible to ensure no one is left behind, even if that means some false positives.\n",
    "2. F1 Score - we want a balance between identifying eligible individuals and minimizing false positives, ensuring that resources are allocated efficiently.\n",
    "\n",
    "For this reason we'll use the **Random Forest Classifier** with the hyperparameters tuned for recall, using **undersampling**, as it provides a good balance between identifying eligible individuals and minimizing false positives.\n",
    "We got the following metrics when testing:\n",
    "- Accuracy: 0.7905\n",
    "- Precision: 0.5378\n",
    "- **Recall**: **0.8898**\n",
    "- **F1 Score**: **0.6704**\n",
    "- ROC AUC: 0.9092"
   ]
  },
  {
   "cell_type": "markdown",
   "id": "0bcadf37",
   "metadata": {},
   "source": [
    "## Bank loan approval\n",
    "Financial institutions can use income predictions for credit risk analysis. By understanding an individual's potential income level, they can more accurately predict their ability to repay loans, which can help in determining interest rates and loan amounts.\n",
    "\n",
    "Here we'll focus on:\n",
    "1. Precision - we want to ensure that the individuals we approve for loans are likely to repay them, minimizing the risk of defaults.\n",
    "2. Accuracy - we want to ensure that our model is making correct predictions, balancing both true positives and true negatives, leading to an overall positive porfolio.\n",
    "\n",
    "For this use case we'll use the **XGBoost Classifier** with the hyperparameters tuned for precision, using **raw data**, as it performed best especially in terms of precision. We got the following metrics when testing: \n",
    "- **Accuracy**: **0.8158**\n",
    "- **Precision**: **0.9846**\n",
    "- Recall: 0.234\n",
    "- F1 Score: 0.3781\n",
    "- ROC AUC: 0.8955"
   ]
  }
 ],
 "metadata": {
  "kernelspec": {
   "display_name": ".venv",
   "language": "python",
   "name": "python3"
  },
  "language_info": {
   "codemirror_mode": {
    "name": "ipython",
    "version": 3
   },
   "file_extension": ".py",
   "mimetype": "text/x-python",
   "name": "python",
   "nbconvert_exporter": "python",
   "pygments_lexer": "ipython3",
   "version": "3.12.3"
  }
 },
 "nbformat": 4,
 "nbformat_minor": 5
}
